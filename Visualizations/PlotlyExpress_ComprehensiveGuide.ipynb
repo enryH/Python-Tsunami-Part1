{
 "cells": [
  {
   "cell_type": "markdown",
   "metadata": {
    "ExecuteTime": {
     "end_time": "2020-10-14T21:08:19.854524Z",
     "start_time": "2020-10-14T21:08:19.851532Z"
    },
    "id": "Ns3Uq3kD8I8N"
   },
   "source": [
    "# Plotly.Express - The Comprehensive guide\n",
    "\n",
    "By [Vaclav Dekanovsky](https://vdekanovsky.medium.com/), taken from [github-repo](https://github.com/vaclavdekanovsky/data-analysis-in-examples/blob/master/Vizualizations/Plotly/Comperhansive%20Guide/Plotly%20Express%20-%20Comprehensive%20Guide.ipynb)\n",
    "\n",
    "> This is mainly the original notebook with slight adaption to make it run directly in colab. (Henry)\n",
    "\n",
    "In this notebook, which complements an article on towardsdatascience.com, you will learn all you wanted to know about the Plotly.Express, a higher level API of Plotly specially designed to work with the Data Frames. The chart in this notebook are not rendered on purpose, because Github cannot shows these renders. Please run all the cells to see the plots. \n",
    "\n",
    "The notebook is completemnting the [article on towardsdatascience](https://towardsdatascience.com/visualization-with-plotly-express-comprehensive-guide-eb5ee4b50b57)\n",
    "\n",
    "## Installation in colab\n",
    "\n",
    "> You might need to restart the runtime (it will tell you) after installation"
   ]
  },
  {
   "cell_type": "code",
   "execution_count": null,
   "metadata": {
    "id": "ICX_j9jY_glN"
   },
   "outputs": [],
   "source": [
    "#automated plotly update\n",
    "import plotly\n",
    "if tuple(int(x) for x in plotly.__version__.split('.')) < (4,14):\n",
    "  !pip install plotly --upgrade\n",
    "  exit()"
   ]
  },
  {
   "cell_type": "code",
   "execution_count": null,
   "metadata": {
    "ExecuteTime": {
     "end_time": "2020-10-15T13:01:01.837349Z",
     "start_time": "2020-10-15T13:01:01.418468Z"
    },
    "id": "hfWG_RuM8I8S"
   },
   "outputs": [],
   "source": [
    "import pandas as pd\n",
    "import numpy as np\n",
    "import plotly.express as px"
   ]
  },
  {
   "cell_type": "markdown",
   "metadata": {
    "id": "ygqMnxWg8I8T"
   },
   "source": [
    "# The data\n",
    "The data were originally preprocessed using [this notebook](https://github.com/vaclavdekanovsky/data-analysis-in-examples/blob/master/Vizualizations/Plotly/Preprocess/Preprocessing.ipynb) and saved locally. It was adapted here to run in colab."
   ]
  },
  {
   "cell_type": "markdown",
   "metadata": {
    "ExecuteTime": {
     "end_time": "2020-08-28T20:04:55.188524Z",
     "start_time": "2020-08-28T20:04:55.183504Z"
    },
    "id": "QJVfr4VH9dfo"
   },
   "source": [
    "We will use two datasets provided by the World Bank:\n",
    "    \n",
    "* International Arrival-- How many tourist have come to the country\n",
    " * https://data.worldbank.org/indicator/ST.INT.ARVL\n",
    "* Receipts--How much they spent in the country (how much the locals received)\n",
    " * https://data.worldbank.org/indicator/ST.INT.RCPT.CD\n",
    "\n",
    "Because both datasets mix data for countries with regional aggregates, eg. `CEB` for Central Europe and Baltics.\n",
    "It also contains columns between `1960` and `2018` but data are populated since `1995` only. \n",
    "For that reason we filter out the regions and drop the empty columns"
   ]
  },
  {
   "cell_type": "code",
   "execution_count": null,
   "metadata": {
    "id": "NK8B_oWS9dfo"
   },
   "outputs": [],
   "source": [
    "def process_world_bank_dataset(path):\n",
    "    df = pd.read_csv(path, skiprows=4)\n",
    "    \n",
    "    # load country_codes (from https://en.wikipedia.org/wiki/List_of_ISO_3166_country_codes)\n",
    "    country_codes = pd.read_csv(\"https://raw.githubusercontent.com/vaclavdekanovsky/data-analysis-in-examples/master/Vizualizations/Plotly/Preprocess/Country_Codes.csv\")\n",
    "    \n",
    "    # info about regions (part of the world bank data package)\n",
    "    regions = pd.read_csv(\"https://raw.githubusercontent.com/vaclavdekanovsky/data-analysis-in-examples/master/Vizualizations/Plotly/Preprocess/Metadata.csv\")\n",
    "\n",
    "    # merge country codes to have only countries\n",
    "    df = df.merge(country_codes[\"ISO3\"], left_on=\"Country Code\", right_on=\"ISO3\", how=\"inner\")\n",
    "    df = df.merge(regions[[\"Country Code\",\"Region\"]], on=\"Country Code\")\n",
    "\n",
    "    # drop unnecesary columns\n",
    "    df.drop(columns=[\"Indicator Name\",\"Indicator Code\", \"ISO3\"], inplace=True)\n",
    "\n",
    "    # drop empty columns and row which have not data\n",
    "    # `axis=0` for rows and `axis=1` for columns \n",
    "    df = df.dropna(how=\"all\", axis=\"rows\")\n",
    "    df = df.dropna(how=\"all\", axis=\"columns\")\n",
    "    \n",
    "    return df\n",
    "\n",
    "def melt_world_bank(df, value_name):\n",
    "    return df.melt(id_vars=[\"Country Name\",\"Country Code\",\"Region\"], \n",
    "                            var_name=\"years\",\n",
    "                            value_name=value_name)"
   ]
  },
  {
   "cell_type": "code",
   "execution_count": null,
   "metadata": {
    "id": "G4hEwND79dfp"
   },
   "outputs": [],
   "source": [
    "wide_arrivals = process_world_bank_dataset(\"https://raw.githubusercontent.com/vaclavdekanovsky/data-analysis-in-examples/master/Vizualizations/Plotly/Preprocess/API_ST.INT.ARVL_DS2_en_csv_v2_1345483.csv\")\n",
    "wide_receipts = process_world_bank_dataset(\"https://raw.githubusercontent.com/vaclavdekanovsky/data-analysis-in-examples/master/Vizualizations/Plotly/Preprocess/API_ST.INT.RCPT.CD_DS2_en_csv_v2_1351575.csv\")\n",
    "\n",
    "print(wide_arrivals.shape, wide_receipts.shape)\n",
    "\n",
    "# melt the data frames to create long dataframe\n",
    "long_arr = melt_world_bank(wide_arrivals,\"visitors\")\n",
    "long_receipts = melt_world_bank(wide_receipts,\"receipts\")\n",
    "\n",
    "long_df = long_arr.merge(long_receipts, on=[\"Country Name\",\"Country Code\",\"years\",\"Region\"]).fillna(0)\n",
    "long_df"
   ]
  },
  {
   "cell_type": "code",
   "execution_count": null,
   "metadata": {
    "id": "Jz5RVQzk9dfp"
   },
   "outputs": [],
   "source": [
    "# save to pickle\n",
    "# wide_arrivals.to_pickle(\"arr.plk\")\n",
    "# wide_receipts.to_pickle(\"rec.plk\")\n",
    "# long_df.to_pickle(\"long.plk\")"
   ]
  },
  {
   "cell_type": "code",
   "execution_count": null,
   "metadata": {
    "ExecuteTime": {
     "end_time": "2020-10-15T13:01:01.867845Z",
     "start_time": "2020-10-15T13:01:01.838345Z"
    },
    "id": "OOXshNEw8I8T"
   },
   "outputs": [],
   "source": [
    "# original dataframe has years are columns\n",
    "year_columns = wide_arrivals # pd.read_pickle(\"../Preprocess/arr.plk\")\n",
    "\n",
    "# transpose to get the country names as columns\n",
    "country_columns = year_columns.set_index(\"Country Name\").T\n",
    "\n",
    "# for some plots we will look on the expenditures made in each country\n",
    "rec = wide_receipts # pd.read_pickle(\"../Preprocess/rec.plk\")"
   ]
  },
  {
   "cell_type": "code",
   "execution_count": null,
   "metadata": {
    "id": "tUf1Bwzq8I8T"
   },
   "outputs": [],
   "source": [
    "country_columns.head()"
   ]
  },
  {
   "cell_type": "markdown",
   "metadata": {
    "id": "enKcLlwB8I8U"
   },
   "source": [
    "# Line Chart\n",
    "Let's start to explore the Plotly Database using the line chart. The regular syntax for any Plotly.Exress chart is `px.chart_type(df, parameters)` so for the line chart it's `px.line(df, parameters)`. \n",
    "\n",
    "There're always the three ways how to create the plot. Check yourself, but I think the first one makes the most sense. \n",
    "\n",
    "* using dataframe and referencing the columns, e.g. `y=\"Spain\"` because \"Spain\" is one of the columns in `country_columns` dataset\n",
    "* using `pandas.Series`\n",
    "* using a list of values"
   ]
  },
  {
   "cell_type": "code",
   "execution_count": null,
   "metadata": {
    "ExecuteTime": {
     "end_time": "2020-10-15T13:01:02.382062Z",
     "start_time": "2020-10-15T13:01:01.869843Z"
    },
    "id": "WI3A1srl8I8U"
   },
   "outputs": [],
   "source": [
    "\"\"\"our dataset comes as a wide dataset with years as column. To turn the country names into the columns, we must set them as index and transpose the frame.\"\"\"\n",
    "country_columns = year_columns.set_index(\"Country Name\").T\n",
    "# 1. I had to reshape the data by transposing\n",
    "px.line(country_columns\n",
    "        ,y=\"Spain\"\n",
    "        ,title=\"Visitors to Spain\")\n"
   ]
  },
  {
   "cell_type": "code",
   "execution_count": null,
   "metadata": {
    "ExecuteTime": {
     "end_time": "2020-10-15T13:01:02.427940Z",
     "start_time": "2020-10-15T13:01:02.384082Z"
    },
    "id": "GdwEyoKk8I8V"
   },
   "outputs": [],
   "source": [
    "# 2. you can specify the value as pandas.Series as well\n",
    "px.line(country_columns, \n",
    "        y=country_columns[\"Spain\"],\n",
    "       title=\"Visitors to Spain\")"
   ]
  },
  {
   "cell_type": "code",
   "execution_count": null,
   "metadata": {
    "ExecuteTime": {
     "end_time": "2020-10-15T13:01:02.475811Z",
     "start_time": "2020-10-15T13:01:02.428937Z"
    },
    "id": "wk6y0rzw8I8V"
   },
   "outputs": [],
   "source": [
    "# 3. or any array. In this case you must specify y-label. \n",
    "px.line(country_columns, \n",
    "        y=country_columns[\"Spain\"].to_list(), \n",
    "        labels={\"y\":\"Spain\"},\n",
    "       title=\"Visitors to Spain\")"
   ]
  },
  {
   "cell_type": "markdown",
   "metadata": {
    "ExecuteTime": {
     "end_time": "2020-10-15T12:17:43.895039Z",
     "start_time": "2020-10-15T12:17:43.882051Z"
    },
    "id": "qP904Kts8I8V"
   },
   "source": [
    "On background, each graph is a dictionary. You can store the chart into a variable, commonly fig and display this dictionary using `fig.to_dict()` or `fig[\"data\"]` or `fig.data` to see the elements data or `fig[\"layout\"]` to review the design of the plot."
   ]
  },
  {
   "cell_type": "code",
   "execution_count": null,
   "metadata": {
    "ExecuteTime": {
     "end_time": "2020-10-15T13:01:02.523683Z",
     "start_time": "2020-10-15T13:01:02.476808Z"
    },
    "id": "NgM8DhJm8I8V"
   },
   "outputs": [],
   "source": [
    "fig = px.line(country_columns, \n",
    "        y=country_columns[\"Spain\"],\n",
    "       title=\"Visitors to Spain\")\n",
    "fig.data, fig.layout"
   ]
  },
  {
   "cell_type": "code",
   "execution_count": null,
   "metadata": {
    "id": "KZDeBxON5a7N"
   },
   "outputs": [],
   "source": [
    "fig.to_dict()[\"data\"][0][\"type\"] #, fig.data"
   ]
  },
  {
   "cell_type": "markdown",
   "metadata": {
    "ExecuteTime": {
     "end_time": "2020-10-15T12:23:21.342947Z",
     "start_time": "2020-10-15T12:23:21.331977Z"
    },
    "id": "sa60xDkY8I8W"
   },
   "source": [
    "## Layout Basics\n",
    "In the examples above, we plot the charts immediately using `px.line(df, params)`, but in order to influence the other parts of the plot, you can assign it into the a variable. As standard `fig = px.chart_type()` is used. In such a case, you render the plot using `fig.show()`"
   ]
  },
  {
   "cell_type": "code",
   "execution_count": null,
   "metadata": {
    "ExecuteTime": {
     "end_time": "2020-10-15T13:01:02.584520Z",
     "start_time": "2020-10-15T13:01:02.524681Z"
    },
    "id": "fUo1UMWV8I8W"
   },
   "outputs": [],
   "source": [
    "fig = px.line(country_columns, \n",
    "        y=country_columns[\"Spain\"].to_list(), \n",
    "        labels={\"y\":\"Spain\"},\n",
    "       title=\"Visitors to Spain\")\n",
    "fig.update_layout(template=\"plotly_dark\")\n",
    "fig.show()"
   ]
  },
  {
   "cell_type": "markdown",
   "metadata": {
    "ExecuteTime": {
     "end_time": "2020-10-15T12:30:50.694556Z",
     "start_time": "2020-10-15T12:30:50.689568Z"
    },
    "id": "O7LHjQXJ8I8W"
   },
   "source": [
    "Rarely you have an option to use multiple columns as input to one of the Plotly parameters. If I'm using `country_columns` data frame which has a column for each country, when I input `y=[\"Spain\",\"Italy\",\"France\"]` three lines will be drawn. "
   ]
  },
  {
   "cell_type": "code",
   "execution_count": null,
   "metadata": {
    "ExecuteTime": {
     "end_time": "2020-10-15T13:01:02.645358Z",
     "start_time": "2020-10-15T13:01:02.587512Z"
    },
    "id": "RVy1LCZl8I8W"
   },
   "outputs": [],
   "source": [
    "px.line(country_columns, y=[\"Spain\",\"Italy\",\"France\"], title=\"International Visitors\")"
   ]
  },
  {
   "cell_type": "markdown",
   "metadata": {
    "id": "ZruTwdrG8I8X"
   },
   "source": [
    "But trying to use multiple columns for any other parameter leads to an error."
   ]
  },
  {
   "cell_type": "code",
   "execution_count": null,
   "metadata": {
    "ExecuteTime": {
     "end_time": "2020-10-15T13:01:02.661314Z",
     "start_time": "2020-10-15T13:01:02.646356Z"
    },
    "id": "oVbai9_t8I8X"
   },
   "outputs": [],
   "source": [
    "try: \n",
    "    px.line(country_columns, y=[\"Spain\",\"Italy\",\"France\"], \n",
    "            text=[\"Spain\",\"Italy\",\"France\"])\n",
    "except Exception as e:\n",
    "    print(e)"
   ]
  },
  {
   "cell_type": "markdown",
   "metadata": {
    "id": "dcPV5Cqh8I8X"
   },
   "source": [
    "You can try some workaround, but they won't create a chart with 3 lines with data value labels. "
   ]
  },
  {
   "cell_type": "code",
   "execution_count": null,
   "metadata": {
    "ExecuteTime": {
     "end_time": "2020-10-15T13:01:02.724147Z",
     "start_time": "2020-10-15T13:01:02.662314Z"
    },
    "id": "KKRYrXrS8I8X"
   },
   "outputs": [],
   "source": [
    "fig = px.line(country_columns, y=[\"Spain\",\"Italy\",\"France\"], \n",
    "                text=\"Spain\",\n",
    "             title=\"Impossible with wide data\")\n",
    "\n",
    "fig.update_traces(texttemplate='%{text:.2s}', textposition=\"top center\")"
   ]
  },
  {
   "cell_type": "markdown",
   "metadata": {
    "id": "F9MdbWU58I8X"
   },
   "source": [
    "To get the most from Plotly.Express, it's preferable to use the long dataframe. From the wide dataframe you achive it using the `df.melt()` function"
   ]
  },
  {
   "cell_type": "code",
   "execution_count": null,
   "metadata": {
    "ExecuteTime": {
     "end_time": "2020-10-15T13:01:02.755065Z",
     "start_time": "2020-10-15T13:01:02.725145Z"
    },
    "id": "rETxBf4x8I8Y"
   },
   "outputs": [],
   "source": [
    "melted_df = year_columns.melt(id_vars=[\"Country Name\",\"Country Code\",\"Region\"], \n",
    "                              var_name=\"years\",\n",
    "                             value_name=\"visitors\")\n",
    "melted_df"
   ]
  },
  {
   "cell_type": "markdown",
   "metadata": {
    "id": "Za7EQ9mU8I8Y"
   },
   "source": [
    "Now you can assign one column to each paramter. In case you want to limit the scope to just 3 of 215 countries, let's filter them in advance. "
   ]
  },
  {
   "cell_type": "code",
   "execution_count": null,
   "metadata": {
    "ExecuteTime": {
     "end_time": "2020-10-15T13:01:02.771022Z",
     "start_time": "2020-10-15T13:01:02.756078Z"
    },
    "id": "jZjfLX698I8Y"
   },
   "outputs": [],
   "source": [
    "spfrit = melted_df[melted_df[\"Country Name\"].isin([\"Spain\",\"Italy\",\"France\"])]"
   ]
  },
  {
   "cell_type": "code",
   "execution_count": null,
   "metadata": {
    "ExecuteTime": {
     "end_time": "2020-10-15T13:01:02.818895Z",
     "start_time": "2020-10-15T13:01:02.772020Z"
    },
    "id": "9Pxn9cnl8I8Y"
   },
   "outputs": [],
   "source": [
    "# by assigning single column to each parameter you can achieve almost every chart design. \n",
    "fig = px.line(spfrit, \n",
    "        x=\"years\", \n",
    "        y=\"visitors\", \n",
    "        color=\"Country Name\", \n",
    "        text=\"visitors\",\n",
    "       title=\"International Visitors\")\n",
    "\n",
    "fig.update_traces(texttemplate='%{text:.2s}', textposition=\"top center\")"
   ]
  },
  {
   "cell_type": "markdown",
   "metadata": {
    "ExecuteTime": {
     "end_time": "2020-10-15T12:43:59.792523Z",
     "start_time": "2020-10-15T12:43:59.773574Z"
    },
    "id": "FFcDZt7v8I8Z"
   },
   "source": [
    "### Tooltips\n",
    "* `hover_name` - highlights value of this column on the top of the tooltip\n",
    "* `hover_data` - let you add or remove tooltips by setting them True/False\n",
    "* `labels` - let you rename the column names inside the tooltip\n",
    "\n",
    "You can also use the icons in the Plotly interactive menu to change between single tooltip appearing or a tooltip for all the lines at the `x` coordinate you hover over - `show closest data on hover` vs `compare data on hover` icons."
   ]
  },
  {
   "cell_type": "code",
   "execution_count": null,
   "metadata": {
    "id": "qIzHJhO2HzFU"
   },
   "outputs": [],
   "source": [
    "# ndf = melted_df[melted_df[\"Country Name\"].isin([\"France\",\"Italy\",\"Spain\"])]\n",
    "spfrit.head()"
   ]
  },
  {
   "cell_type": "code",
   "execution_count": null,
   "metadata": {
    "ExecuteTime": {
     "end_time": "2020-10-15T13:01:02.880729Z",
     "start_time": "2020-10-15T13:01:02.820892Z"
    },
    "id": "lWrcObeo8I8Z"
   },
   "outputs": [],
   "source": [
    "fig = px.line(spfrit, \n",
    "        x=\"years\", \n",
    "        y=\"visitors\", \n",
    "        color=\"Country Name\", \n",
    "        hover_name=\"Country Name\",\n",
    "        text=\"visitors\",\n",
    "        labels={\"Country Code\": \"Code\"},\n",
    "        title=\"International Visitors\")\n",
    "\n",
    "fig.update_traces(texttemplate='%{text:.2s}', textposition=\"top center\")"
   ]
  },
  {
   "cell_type": "markdown",
   "metadata": {
    "ExecuteTime": {
     "end_time": "2020-08-28T23:04:38.799636Z",
     "start_time": "2020-08-28T23:04:38.794667Z"
    },
    "id": "ynQs1FQG8I8Z"
   },
   "source": [
    "## Parameter - facet_row and facet_col\n",
    "split the chart into rows or columns"
   ]
  },
  {
   "cell_type": "code",
   "execution_count": null,
   "metadata": {
    "ExecuteTime": {
     "end_time": "2020-10-15T13:01:02.942565Z",
     "start_time": "2020-10-15T13:01:02.881727Z"
    },
    "id": "oP10qApm8I8Z"
   },
   "outputs": [],
   "source": [
    "px.line(spfrit, #melted_df[melted_df[\"Country Name\"].isin([\"France\",\"Italy\",\"Spain\"])], \n",
    "        x=\"years\", \n",
    "        y=\"visitors\", \n",
    "        facet_col =\"Country Name\", \n",
    "        color=\"Country Name\",\n",
    "       title=\"International Visitors\")"
   ]
  },
  {
   "cell_type": "markdown",
   "metadata": {
    "ExecuteTime": {
     "end_time": "2020-08-28T22:03:34.181238Z",
     "start_time": "2020-08-28T22:03:34.177249Z"
    },
    "id": "Kc0hEb0W8I8Z"
   },
   "source": [
    "## Parameter - color_discrete_sequence\n",
    "To set up the exact color of each line using a list of colors"
   ]
  },
  {
   "cell_type": "code",
   "execution_count": null,
   "metadata": {
    "ExecuteTime": {
     "end_time": "2020-10-15T13:01:03.019365Z",
     "start_time": "2020-10-15T13:01:02.946555Z"
    },
    "id": "jG-OXI3Y8I8Z"
   },
   "outputs": [],
   "source": [
    "px.line(spfrit, #melted_df[melted_df[\"Country Name\"].isin([\"France\",\"Italy\",\"Spain\"])], \n",
    "        x=\"years\", \n",
    "        y=\"visitors\", \n",
    "        facet_row =\"Country Name\", \n",
    "        color=\"Country Name\",\n",
    "       title=\"International Visitors\",\n",
    "       color_discrete_sequence  = [\"red\",\"yellow\"])"
   ]
  },
  {
   "cell_type": "markdown",
   "metadata": {
    "ExecuteTime": {
     "end_time": "2020-08-28T22:08:39.174975Z",
     "start_time": "2020-08-28T22:08:39.168961Z"
    },
    "id": "U-Zz1enh8I8a"
   },
   "source": [
    "## Parameter - color_discrete_map\n",
    "To set up the exact color of each line using a dictionary"
   ]
  },
  {
   "cell_type": "code",
   "execution_count": null,
   "metadata": {
    "ExecuteTime": {
     "end_time": "2020-10-15T13:01:03.082190Z",
     "start_time": "2020-10-15T13:01:03.023350Z"
    },
    "id": "BXFDixu68I8a"
   },
   "outputs": [],
   "source": [
    "px.line(spfrit, #melted_df[melted_df[\"Country Name\"].isin([\"France\",\"Italy\",\"Spain\"])], \n",
    "        x=\"years\", \n",
    "        y=\"visitors\", \n",
    "        facet_row =\"Country Name\", \n",
    "        color=\"Country Name\",\n",
    "       title=\"International Visitors\",\n",
    "       color_discrete_map  = {\"Spain\":\"Black\"})\n"
   ]
  },
  {
   "cell_type": "markdown",
   "metadata": {
    "ExecuteTime": {
     "end_time": "2020-08-28T22:08:59.207659Z",
     "start_time": "2020-08-28T22:08:59.203673Z"
    },
    "id": "fXYpZimy8I8a"
   },
   "source": [
    "## Parameter - line_group\n",
    "To separate the lines based on this column. Basically work the same as color, but all lines will have the same color"
   ]
  },
  {
   "cell_type": "code",
   "execution_count": null,
   "metadata": {
    "ExecuteTime": {
     "end_time": "2020-10-15T13:01:03.130062Z",
     "start_time": "2020-10-15T13:01:03.083187Z"
    },
    "id": "J1M-7Kur8I8a"
   },
   "outputs": [],
   "source": [
    "px.line(spfrit, #melted_df[melted_df[\"Country Name\"].isin([\"France\",\"Italy\",\"Spain\"])], \n",
    "        x=\"years\", \n",
    "        y=\"visitors\", \n",
    "        line_group=\"Country Name\",\n",
    "       title=\"International Visitors\",\n",
    "        # you can use color_discrete_sequence to change the color, but only the first item in the list is considered\n",
    "       color_discrete_sequence  = [\"red\", \"yellow\"])"
   ]
  },
  {
   "cell_type": "markdown",
   "metadata": {
    "ExecuteTime": {
     "end_time": "2020-08-28T22:19:05.083922Z",
     "start_time": "2020-08-28T22:19:05.078937Z"
    },
    "id": "sNhvpEJs8I8a"
   },
   "source": [
    "## Parameters - range_x, range_y\n",
    "Allowing to zoom into the plot. You can zoom out using `autoscale` icon in the Plotly interactive menu, which appear when you hover your mouse over the chart in the top right corner. "
   ]
  },
  {
   "cell_type": "code",
   "execution_count": null,
   "metadata": {
    "ExecuteTime": {
     "end_time": "2020-10-15T13:01:03.191929Z",
     "start_time": "2020-10-15T13:01:03.131061Z"
    },
    "id": "1EWHDxLy8I8a"
   },
   "outputs": [],
   "source": [
    "px.line(spfrit, #melted_df[melted_df[\"Country Name\"].isin([\"France\",\"Italy\",\"Spain\"])], \n",
    "        x=\"years\", \n",
    "        y=\"visitors\", \n",
    "        color=\"Country Name\",\n",
    "        title=\"International Visitors\",\n",
    "        range_x=[2014,2018],\n",
    "        range_y=[50000000,90000000])"
   ]
  },
  {
   "cell_type": "markdown",
   "metadata": {
    "ExecuteTime": {
     "end_time": "2020-08-28T22:30:58.506542Z",
     "start_time": "2020-08-28T22:30:58.499564Z"
    },
    "id": "etCGuUr98I8a"
   },
   "source": [
    "## Parameters - log_x, log_y\n",
    "Change the axes to log scale"
   ]
  },
  {
   "cell_type": "code",
   "execution_count": null,
   "metadata": {
    "ExecuteTime": {
     "end_time": "2020-10-15T13:01:03.239805Z",
     "start_time": "2020-10-15T13:01:03.192896Z"
    },
    "id": "MAOIaXZw8I8b"
   },
   "outputs": [],
   "source": [
    "px.line(spfrit, # melted_df[melted_df[\"Country Name\"].isin([\"France\",\"Italy\",\"Spain\"])], \n",
    "        x=\"years\", \n",
    "        y=\"visitors\", \n",
    "        color=\"Country Name\",\n",
    "        title=\"International Visitors\",\n",
    "        log_x=True,\n",
    "        log_y=True)"
   ]
  },
  {
   "cell_type": "markdown",
   "metadata": {
    "ExecuteTime": {
     "end_time": "2020-08-28T22:42:17.030969Z",
     "start_time": "2020-08-28T22:42:17.023938Z"
    },
    "id": "YiRRTi4h8I8b"
   },
   "source": [
    "## Parameters - line_dash\n",
    "Changes the dash pattern of the lines"
   ]
  },
  {
   "cell_type": "code",
   "execution_count": null,
   "metadata": {
    "ExecuteTime": {
     "end_time": "2020-10-15T13:01:03.286668Z",
     "start_time": "2020-10-15T13:01:03.240777Z"
    },
    "id": "muib56DM8I8b"
   },
   "outputs": [],
   "source": [
    "px.line(spfrit, #melted_df[melted_df[\"Country Name\"].isin([\"France\",\"Italy\",\"Spain\"])], \n",
    "        x=\"years\", \n",
    "        y=\"visitors\", \n",
    "        line_dash =\"Country Name\",\n",
    "        title=\"International Visitors\",)"
   ]
  },
  {
   "cell_type": "markdown",
   "metadata": {
    "ExecuteTime": {
     "end_time": "2020-08-28T23:00:42.009864Z",
     "start_time": "2020-08-28T23:00:42.005875Z"
    },
    "id": "_XLt-oc78I8b"
   },
   "source": [
    "## Parameters - animation_frame\n",
    "In order to use animation with a line chart, I have to treak the data frame a bit. I'll add a new column `year_upto` and for every year I'll hold the data for all previous years.\n",
    "\n",
    "year_upto  | year |  country |  visitors\n",
    "---------- | ---- | -------- | ---------\n",
    "1995       |1995  | ESP      | 1000\n",
    "1996       |1995  | ESP      | 1000\n",
    "1996       |1996  | ESP      | 1099"
   ]
  },
  {
   "cell_type": "code",
   "execution_count": null,
   "metadata": {
    "ExecuteTime": {
     "end_time": "2020-10-15T13:01:03.317562Z",
     "start_time": "2020-10-15T13:01:03.287642Z"
    },
    "id": "Sg0xT_Ci8I8b"
   },
   "outputs": [],
   "source": [
    "data = []\n",
    "for y in melted_df[\"years\"].unique():\n",
    "    df = spfrit[spfrit[\"years\"]<=y]\n",
    "    df[\"year_upto\"] = y\n",
    "    data.append(df)\n",
    "spfrit_animation = pd.concat(data)\n",
    "spfrit_animation.head()"
   ]
  },
  {
   "cell_type": "code",
   "execution_count": null,
   "metadata": {
    "ExecuteTime": {
     "end_time": "2020-10-15T13:01:03.582853Z",
     "start_time": "2020-10-15T13:01:03.321552Z"
    },
    "id": "Gm-mb1-t8I8c"
   },
   "outputs": [],
   "source": [
    "px.line(spfrit_animation, \n",
    "        x=\"years\", \n",
    "        y=\"visitors\", \n",
    "        color=\"Country Name\",\n",
    "        title=\"International Visitors\",\n",
    "        range_x=[1995, 2018],\n",
    "        range_y=[20_000_000,90_000_000],\n",
    "        animation_frame=\"year_upto\")\n",
    "# in colab you might need to use the \"autoscale\" button to get it to work"
   ]
  },
  {
   "cell_type": "markdown",
   "metadata": {
    "id": "kwhp0Aq88I8c"
   },
   "source": [
    "# The Layout and styling\n",
    "Because every plotly chart contain a background dictionary you can update it using 3 ways. "
   ]
  },
  {
   "cell_type": "code",
   "execution_count": null,
   "metadata": {
    "ExecuteTime": {
     "end_time": "2020-10-15T13:01:03.646716Z",
     "start_time": "2020-10-15T13:01:03.586856Z"
    },
    "id": "Zt-qv_li8I8c"
   },
   "outputs": [],
   "source": [
    "# Every graph is a dictionary\n",
    "fig = px.line(country_columns\n",
    "        ,y=\"Spain\"\n",
    "        ,title=\"Visitors to Spain\")\n",
    "\n",
    "# display the data\n",
    "fig.to_dict()"
   ]
  },
  {
   "cell_type": "code",
   "execution_count": null,
   "metadata": {
    "ExecuteTime": {
     "end_time": "2020-10-15T13:01:03.662645Z",
     "start_time": "2020-10-15T13:01:03.647681Z"
    },
    "id": "JxKvvsDe8I8d"
   },
   "outputs": [],
   "source": [
    "# 1. using fig.update_layout\n",
    "fig.update_layout(title=\"Visitors to Spain\",\n",
    "                  yaxis_tickformat = '.2f',\n",
    "                  xaxis_title=\"X-axis title \",\n",
    "                  yaxis = {\"title\": \"Y-axis with updated numeric format\",\n",
    "                          \"range\": [10000000,120000000],\n",
    "                          \"scaleanchor\": \"x19\"}\n",
    "                  ,xaxis={})\n",
    "fig.show()"
   ]
  },
  {
   "cell_type": "code",
   "execution_count": null,
   "metadata": {
    "ExecuteTime": {
     "end_time": "2020-10-15T13:01:03.692560Z",
     "start_time": "2020-10-15T13:01:03.664634Z"
    },
    "id": "QM-0xHpC8I8d"
   },
   "outputs": [],
   "source": [
    "# 2. update axes using fig.update_yaxes\n",
    "# parameters of the yaxis can be found in the doc - \n",
    "# https://plotly.com/python-api-reference/generated/plotly.graph_objects.layout.yaxis.html?highlight=yaxis#module-plotly.graph_objects.layout.yaxis\n",
    "fig.update_yaxes(title_text=\"different axis title\", \n",
    "                 type=\"linear\", \n",
    "                 ticks=\"inside\", \n",
    "                 color=\"red\")"
   ]
  },
  {
   "cell_type": "code",
   "execution_count": null,
   "metadata": {
    "ExecuteTime": {
     "end_time": "2020-10-15T13:01:03.708517Z",
     "start_time": "2020-10-15T13:01:03.693558Z"
    },
    "id": "35R4NllL8I8d"
   },
   "outputs": [],
   "source": [
    "# Updating the layout by modifying charts dictionary.\n",
    "# standoff is the distance between the tick labels and the axis title\n",
    "fig[\"layout\"][\"yaxis\"][\"title\"][\"text\"] = \"Y-Axis\"\n",
    "fig[\"layout\"][\"yaxis\"][\"title\"][\"standoff\"] = 150\n",
    "fig[\"layout\"][\"yaxis\"][\"title\"][\"font\"][\"size\"] = 22\n",
    "fig.show()"
   ]
  },
  {
   "cell_type": "markdown",
   "metadata": {
    "ExecuteTime": {
     "end_time": "2020-08-29T20:57:42.638460Z",
     "start_time": "2020-08-29T20:57:42.634502Z"
    },
    "id": "NhTK17Iy8I8d"
   },
   "source": [
    "## Templates"
   ]
  },
  {
   "cell_type": "code",
   "execution_count": null,
   "metadata": {
    "ExecuteTime": {
     "end_time": "2020-10-15T13:01:03.724474Z",
     "start_time": "2020-10-15T13:01:03.710511Z"
    },
    "id": "G5PQ3iVd8I8d"
   },
   "outputs": [],
   "source": [
    "def fig_reset():\n",
    "    \"\"\"Initialize basic chart\"\"\"\n",
    "    return px.line(spfrit, x=\"years\", y=\"visitors\",\n",
    "                   color=\"Country Name\",\n",
    "                   title=\"International Visitors\")\n"
   ]
  },
  {
   "cell_type": "code",
   "execution_count": null,
   "metadata": {
    "ExecuteTime": {
     "end_time": "2020-10-15T13:01:03.787307Z",
     "start_time": "2020-10-15T13:01:03.725471Z"
    },
    "id": "asf1XZ8m8I8e"
   },
   "outputs": [],
   "source": [
    "fig = fig_reset()\n",
    "fig.update_layout(template=\"plotly_dark\")"
   ]
  },
  {
   "cell_type": "markdown",
   "metadata": {
    "id": "BcIA8KeY8I8e"
   },
   "source": [
    "## X and Y-axis\n",
    "Axes are controlling wide range of parameters, like gridlines, ticks, ticklabels, axes titles, spikes, "
   ]
  },
  {
   "cell_type": "code",
   "execution_count": null,
   "metadata": {
    "ExecuteTime": {
     "end_time": "2020-10-15T13:01:03.864101Z",
     "start_time": "2020-10-15T13:01:03.788304Z"
    },
    "id": "oFffBG458I8e"
   },
   "outputs": [],
   "source": [
    "df = pd.DataFrame({\"values\": [-2,0,1,2,3,4,4,5,6,7,8]})\n",
    "fig = px.line(df, y=\"values\", color_discrete_sequence=[\"#f66e20\"])\n",
    "fig.update_layout(\n",
    "                template=\"plotly_white\",\n",
    "                title={\"text\":\"Axis Elements\", \"font\": {\"size\": 25}, \"x\": 0.5, \"y\": 0.95},\n",
    "                yaxis={\n",
    "                        \"zerolinecolor\": \"black\",\n",
    "                        \"gridcolor\": \"#0071b3\",\n",
    "                        \"linecolor\": \"#fab22e\",\n",
    "                        \"spikecolor\": \"#cb001c\",\n",
    "                        \"spikesnap\": \"data\",\n",
    "                        \"ticks\": \"inside\",\n",
    "                        \"tickangle\": 30,\n",
    "                        \"ticklen\": 10,\n",
    "                        \"tickwidth\": 2,\n",
    "                        \"tickcolor\": \"#35b729\",\n",
    "                        \"showticklabels\": True,},\n",
    "                 annotations=[\n",
    "                             {\"x\":9, \"y\":0, \"ay\": -40, \n",
    "                               \"text\": \"zeroline\",\n",
    "                               \"arrowhead\": 3, \"showarrow\":True,\n",
    "                                \"font\": {\"size\": 15}},\n",
    "                             {\"x\":7, \"y\":2, \"ay\": 40, \n",
    "                               \"text\": \"gridline\",\n",
    "                               \"arrowhead\": 3, \"showarrow\":True,\n",
    "                               \"font\":{\"color\":\"#0071b3\", \"size\": 15}},\n",
    "                             {\"x\":3, \"y\":3, \"ay\": -60,  \n",
    "                               \"text\": \"spike\",\n",
    "                               \"arrowhead\": 3, \"showarrow\":True,\n",
    "                               \"font\":{\"color\":\"#cb001c\", \"size\": 15}},\n",
    "                             {\"x\":0.0, \"y\": 7, \"ax\": 60, \"ay\": 0,\n",
    "                               \"text\": \"line\",\n",
    "                               \"arrowhead\": 3, \"showarrow\":True,\n",
    "                               \"bgcolor\":\"#fab22e\",\n",
    "                               \"font\": {\"size\": 15}},\n",
    "                             {\"x\":0.05, \"y\":4.10, \"ax\": 60, \"ay\": -35, \n",
    "                               \"text\": \"ticks\",\n",
    "                               \"arrowhead\": 3, \"showarrow\":True,\n",
    "                              \"font\":{\"color\":\"#35b729\", \"size\": 15}},\n",
    "                             {\"x\":0.05, \"y\":5.90, \"ax\": 45, \"ay\": 25, \n",
    "                               \"arrowhead\": 3, \"showarrow\":True,\n",
    "                              \"font\":{\"color\":\"#35b729\", \"size\": 15}}],\n",
    "                    xaxis={\"range\":[0,10]})"
   ]
  },
  {
   "cell_type": "markdown",
   "metadata": {
    "id": "oz1pamxU8I8e"
   },
   "source": [
    "### Grid Ranges"
   ]
  },
  {
   "cell_type": "code",
   "execution_count": null,
   "metadata": {
    "ExecuteTime": {
     "end_time": "2020-10-15T13:01:03.972811Z",
     "start_time": "2020-10-15T13:01:03.865098Z"
    },
    "id": "kQGOClGJ8I8e"
   },
   "outputs": [],
   "source": [
    "fig = fig_reset()\n",
    "# y-ticks are precise location\n",
    "fig.update_layout(yaxis={\"tickvals\":[40000000,70000000], \"title\": \"visitors\"})"
   ]
  },
  {
   "cell_type": "code",
   "execution_count": null,
   "metadata": {
    "ExecuteTime": {
     "end_time": "2020-10-15T13:01:04.019685Z",
     "start_time": "2020-10-15T13:01:03.973810Z"
    },
    "id": "SBoH4gAD8I8e"
   },
   "outputs": [],
   "source": [
    "# there is 5 y-ticks\n",
    "fig = fig_reset()\n",
    "fig.update_layout(yaxis={\"tickmode\": \"auto\",\n",
    "                         #\"tick0\": 11000000, \n",
    "                         #\"dtick\":6000000,\n",
    "                         \"nticks\": 5,\n",
    "                         \"title\": \"visitors\"})"
   ]
  },
  {
   "cell_type": "code",
   "execution_count": null,
   "metadata": {
    "ExecuteTime": {
     "end_time": "2020-10-15T13:01:04.067563Z",
     "start_time": "2020-10-15T13:01:04.020690Z"
    },
    "id": "24s6EsEu8I8e"
   },
   "outputs": [],
   "source": [
    "# ticks start at 11M and appear every 6M\n",
    "fig = fig_reset()\n",
    "fig.update_layout(yaxis={\"tickmode\": \"linear\",\n",
    "                         \"tick0\": 11_000_000, \n",
    "                         \"dtick\":6_000_000,\n",
    "                         \"title\": \"visitors\"\n",
    "                         })"
   ]
  },
  {
   "cell_type": "markdown",
   "metadata": {
    "id": "ID1-ZEwe8I8f"
   },
   "source": [
    "### Range slider"
   ]
  },
  {
   "cell_type": "code",
   "execution_count": null,
   "metadata": {
    "id": "hX96Q9RK8I8f"
   },
   "outputs": [],
   "source": [
    "fig = px.line(melted_df[melted_df[\"Country Name\"].isin([\"France\",\"Italy\",\"Spain\"])], \n",
    "        x=\"years\", \n",
    "        y=\"visitors\", \n",
    "        line_dash =\"Country Name\",\n",
    "        title=\"Range Slider\")\n",
    "fig.update_xaxes(rangeslider_visible=True)"
   ]
  },
  {
   "cell_type": "markdown",
   "metadata": {
    "id": "FCq6GlUd8I8f"
   },
   "source": [
    "### Axis types\n",
    "Our x-axis is of the `string` (object) type, but plotly turns it into float. If you look into the plotly's figure dictionary it still looks as a string, but when you zoom the chart, plotly automatically add extra grids with decimal values."
   ]
  },
  {
   "cell_type": "code",
   "execution_count": null,
   "metadata": {
    "id": "TrpcpY-c8I8f"
   },
   "outputs": [],
   "source": [
    "fig[\"data\"][0][\"x\"]"
   ]
  },
  {
   "cell_type": "code",
   "execution_count": null,
   "metadata": {
    "id": "jGb6ZiYb8I8f"
   },
   "outputs": [],
   "source": [
    "fig = px.line(spfrit, \n",
    "        x=\"years\", \n",
    "        y=\"visitors\", \n",
    "        line_dash =\"Country Name\",\n",
    "        range_x=[2004,2006])\n",
    "# you might need to press \"Autoscale\" button in colab to see something\n",
    "fig.show()"
   ]
  },
  {
   "cell_type": "code",
   "execution_count": null,
   "metadata": {
    "id": "g2suWS_28I8f"
   },
   "outputs": [],
   "source": [
    "# because our values are rather dates, let's turn it into date.\n",
    "spfrit[\"years\"] = pd.to_datetime(spfrit[\"years\"], format=\"%Y\")\n",
    "fig = px.line(spfrit, \n",
    "        x=\"years\", \n",
    "        y=\"visitors\", \n",
    "        line_dash =\"Country Name\",\n",
    "        # since range_x accepts a list with two values - start and end, we can use pandas daterange with 2 values\n",
    "        range_x=pd.date_range(start='2004', periods=2, freq='2Y').to_list())\n",
    "fig.show()"
   ]
  },
  {
   "cell_type": "code",
   "execution_count": null,
   "metadata": {
    "id": "Co4_y-lW8I8g"
   },
   "outputs": [],
   "source": [
    "spfrit = melted_df[melted_df[\"Country Name\"].isin([\"Spain\",\"Italy\",\"France\"])]\n",
    "# turning serie used as x-axis to string or category, doesn't prevent plotly to turn it into float\n",
    "spfrit[\"years\"] = spfrit[\"years\"].astype(\"string\")\n",
    "# spfrit[\"years\"] = spfrit[\"years\"].astype(\"category\")\n",
    "fig = px.line(spfrit, \n",
    "        x=\"years\", \n",
    "        y=\"visitors\", \n",
    "        line_dash =\"Country Name\",\n",
    "        range_x=[\"2004\",\"2006\"])\n",
    "# despite the years are being string, plotly itroduces grid lines `2,004.5` and `2,005.5` which are not existing in the dataframe\n",
    "fig.show()\n",
    "# you might need to press \"Autoscale\" button in colab to see something"
   ]
  },
  {
   "cell_type": "code",
   "execution_count": null,
   "metadata": {
    "id": "Ei11O7bC8I8g"
   },
   "outputs": [],
   "source": [
    "# the fix is however simple, you need to turn the axis into a category.\n",
    "fig.update_xaxes(type='category')\n",
    "# you might need to press \"Autoscale\" button in colab to see something\n",
    "fig.show()"
   ]
  },
  {
   "cell_type": "markdown",
   "metadata": {
    "id": "0aKyq8oH8I8g"
   },
   "source": [
    "# Annotations\n",
    "4 main use cases for annotation:\n",
    "\n",
    "* To highlight some point(s)\n",
    "* To describe/highlight an area\n",
    "* To label desired point\n",
    "* Instead of a legend\n",
    "\n",
    "I have said that long data structure is ideal for plotly.express. Well, sometimes you can struggle with it too. Like in this case, because the order of the lines depend when they appear in the dataframe you cannot suprisingly assign color using `color_discrete_sequence`. So I must transform my datagrame into a dictionary with a color assigned to each country. Most countries would be `lightgrey` and the two I want to highlight will have `blue` and `red` color."
   ]
  },
  {
   "cell_type": "code",
   "execution_count": null,
   "metadata": {
    "ExecuteTime": {
     "end_time": "2020-10-15T13:01:04.097476Z",
     "start_time": "2020-10-15T13:01:04.068557Z"
    },
    "id": "HVf5VtA98I8g"
   },
   "outputs": [],
   "source": [
    "melted_df_jptr = melted_df.copy()\n",
    "\n",
    "# crete a dict with colors:\n",
    "colors = pd.DataFrame(melted_df_jptr[\"Country Name\"].unique(), columns=[\"Country Name\"])\n",
    "colors[\"color\"] = colors[\"Country Name\"].map({\"Japan\": \"blue\", \"Turkey\": \"red\"}).fillna(\"lightgrey\")\n",
    "\n",
    "# color map is a dict with colors, lightgrey for most, {\"Aruba\": \"lightgrey\", ... \"Japan: \"blue\", ...}\n",
    "color_map = {v[\"Country Name\"]: v[\"color\"] for k,v in colors.iterrows()}\n",
    "\n",
    "# show sample from the dictionary\n",
    "{k:color_map[k] for k in color_map if k in [\"Aruba\",\"Japan\",\"Turkey\",\"Zimbabwe\"]}"
   ]
  },
  {
   "cell_type": "code",
   "execution_count": null,
   "metadata": {
    "ExecuteTime": {
     "end_time": "2020-10-15T13:01:04.113436Z",
     "start_time": "2020-10-15T13:01:04.098474Z"
    },
    "id": "DP1Le1rQ8I8g"
   },
   "outputs": [],
   "source": [
    "# sort the dataframe\n",
    "\n",
    "melted_df_jptr[\"order\"] = melted_df_jptr[\"Country Name\"].map({\"Japan\": 1, \"Turkey\": 2}).fillna(3)\n",
    "melted_df_jptr.sort_values(by=[\"order\",\"years\"], ascending=True, inplace=True)\n",
    "melted_df_jptr.head(3)"
   ]
  },
  {
   "cell_type": "markdown",
   "metadata": {
    "ExecuteTime": {
     "end_time": "2020-08-30T12:45:21.210190Z",
     "start_time": "2020-08-30T12:45:21.205183Z"
    },
    "id": "Gh-BBvec8I8g"
   },
   "source": [
    "Create the plot with the annotations.\n",
    "You can use two reference points:\n",
    "\n",
    "* \"xref\": \"paper\" where 0 is the left side of the plot and 1 the right one\n",
    "* \"xref\": \"x\" (default) which allow to annotate inside the plotting area using chart coordinates"
   ]
  },
  {
   "cell_type": "code",
   "execution_count": null,
   "metadata": {
    "ExecuteTime": {
     "end_time": "2020-10-15T13:01:05.078885Z",
     "start_time": "2020-10-15T13:01:04.114433Z"
    },
    "id": "z4swSqMX8I8h"
   },
   "outputs": [],
   "source": [
    "# but still my lines are somewhere in the middle\n",
    "fig = px.line(melted_df_jptr.sort_values(by=[\"order\",\"years\"], ascending=False),\n",
    "              x=\"years\",\n",
    "              y=\"visitors\", \n",
    "              color=\"Country Name\", \n",
    "              line_group=\"Country Name\",\n",
    "              color_discrete_map=color_map)\n",
    "\n",
    "fig.update_layout(title=\"Tourism Growth in Turkey and Japan\",\n",
    "                # remove the legent\n",
    "                showlegend=False,\n",
    "                  \n",
    "                # make y-axis invisible\n",
    "                yaxis={\"visible\":False},\n",
    "                \n",
    "                xaxis={\"type\": \"linear\"},\n",
    "                \n",
    "                # create the annoations\n",
    "                # point annotattion\n",
    "                annotations=[\n",
    "                        {\"x\":2011, \"y\":6220000, \"ay\": -40, \n",
    "                        \"text\": \"<b>Tourism Boom<br> in Japan 2011</b>\",\n",
    "                        \"arrowhead\": 3, \"showarrow\":True,\n",
    "                        \"font\": {\"size\": 15}},\n",
    "                    # area annotation\n",
    "                    {\"x\":2007, \"y\":40000000, \n",
    "                        \"text\": \"<b>Number of tourist is growing</b>\",\n",
    "                         \"textangle\": -25,\n",
    "                        \"showarrow\":False,\n",
    "                         \"bgcolor\":\"lightblue\",\n",
    "                        \"font\": {\"size\": 15}},\n",
    "                    # start of the line annotation   \n",
    "                    # use the \"xanchor\": \"right\" so that the labels stick to the right side of the plot area\n",
    "                    {\"xref\":\"paper\", \"yref\":\"paper\", \"x\":0, \"y\":0.15,\n",
    "                              \"xanchor\":'right', \"yanchor\":\"top\",\n",
    "                              \"text\":'7M',\n",
    "                              \"font\":dict(family='Arial',\n",
    "                                        size=12,\n",
    "                                        color=\"red\"),\n",
    "                              \"showarrow\":False},\n",
    "                    {\"xref\":\"paper\", \"yref\":\"paper\", \"x\":0, \"y\":0.1,\n",
    "                              \"xanchor\":'right', \"yanchor\":'top',\n",
    "                              \"text\":'3.3M',\n",
    "                              \"font\":dict(family='Arial',\n",
    "                                        size=12,\n",
    "                                        color=\"blue\"),\n",
    "                              \"showarrow\":False},\n",
    "                    # end of the line legend\n",
    "                    # use the \"xanchor\": \"left\" so that the labels stick to the right side of the plot area\n",
    "                    {\"xref\":\"paper\", \"yref\":\"paper\", \"x\":1, \"y\":0.53,\n",
    "                              \"xanchor\":\"left\", \"yanchor\":\"top\",\n",
    "                              \"text\":'Turkey (45M)',\n",
    "                              \"font\":dict(family='Arial',\n",
    "                                        size=12,\n",
    "                                        color=\"red\"),\n",
    "                              \"showarrow\":False},\n",
    "                    {\"xref\":\"paper\", \"yref\":\"paper\", \"x\":1, \"y\":0.39,\n",
    "                              \"xanchor\":'left', \"yanchor\":'top',\n",
    "                              \"text\":'Japan (31M)',\n",
    "                              \"font\":dict(family='Arial',\n",
    "                                        size=12,\n",
    "                                        color=\"blue\"),\n",
    "                              \"showarrow\":False}\n",
    "                    \n",
    "                ])\n",
    "fig.show()"
   ]
  },
  {
   "cell_type": "markdown",
   "metadata": {
    "id": "oeVZ6qtf8I8h"
   },
   "source": [
    "You might also notice, that with increased number of lines, Plotly automatically switched to WebGL format proven to improve the usability of the JavaScript plots with many data points."
   ]
  },
  {
   "cell_type": "code",
   "execution_count": null,
   "metadata": {
    "ExecuteTime": {
     "end_time": "2020-10-15T13:01:05.093814Z",
     "start_time": "2020-10-15T13:01:05.079852Z"
    },
    "id": "rBOMJ9zm8I8h"
   },
   "outputs": [],
   "source": [
    "type(fig.data[0])"
   ]
  },
  {
   "cell_type": "markdown",
   "metadata": {
    "id": "L-hbl97I8I8h"
   },
   "source": [
    "How to create the chart above is described in detail in [the article](https://towardsdatascience.com/highlighted-line-chart-with-plotly-express-e69e2a27fea8) and [notebook](https://github.com/vaclavdekanovsky/data-analysis-in-examples/blob/master/Vizualizations/Plotly/Highlighted_Line_Chart_on_Grey_Lines_Background/Highlight_Lines_on_Grey_Background.ipynb)"
   ]
  },
  {
   "cell_type": "markdown",
   "metadata": {
    "ExecuteTime": {
     "end_time": "2020-08-30T12:58:45.446630Z",
     "start_time": "2020-08-30T12:58:45.443640Z"
    },
    "id": "mKdgFMMf8I8h"
   },
   "source": [
    "# Bar Chart"
   ]
  },
  {
   "cell_type": "code",
   "execution_count": null,
   "metadata": {
    "ExecuteTime": {
     "end_time": "2020-10-15T13:01:05.156646Z",
     "start_time": "2020-10-15T13:01:05.094819Z"
    },
    "id": "GZW5qIce8I8h"
   },
   "outputs": [],
   "source": [
    "fig = px.bar(spfrit, \n",
    "             y=\"visitors\", \n",
    "             x=\"years\", \n",
    "             color=\"Country Name\",\n",
    "            title=\"Visitors to Europe - Bar Mode Group\",\n",
    "            barmode='group')\n",
    "fig.update_layout(\n",
    "        xaxis={\"tick0\":1995, \"dtick\":1, \"tickangle\": 30}\n",
    ")"
   ]
  },
  {
   "cell_type": "markdown",
   "metadata": {
    "id": "4q76YXua8I8h"
   },
   "source": [
    "Let's plot just year 2018 to see which country was the most often visited"
   ]
  },
  {
   "cell_type": "code",
   "execution_count": null,
   "metadata": {
    "ExecuteTime": {
     "end_time": "2020-10-15T13:01:05.219478Z",
     "start_time": "2020-10-15T13:01:05.158641Z"
    },
    "id": "QMLzDfD38I8i"
   },
   "outputs": [],
   "source": [
    "arr_2018 = melted_df[melted_df[\"years\"]==\"2018\"]\n",
    "fig = px.bar(arr_2018.sort_values(by=\"visitors\", ascending=False), \n",
    "             y=\"visitors\", \n",
    "             x=\"Country Name\", \n",
    "            title=\"World Tourism 2018\",\n",
    "            barmode='group')\n",
    "fig.show()"
   ]
  },
  {
   "cell_type": "markdown",
   "metadata": {
    "ExecuteTime": {
     "end_time": "2020-08-30T13:14:21.751829Z",
     "start_time": "2020-08-30T13:14:21.747873Z"
    },
    "id": "cOVYa3Dr8I8i"
   },
   "source": [
    "The chart like this provides some information, but it's not very readable. Let's take top 15 countries and group the rest into \"Other\""
   ]
  },
  {
   "cell_type": "code",
   "execution_count": null,
   "metadata": {
    "ExecuteTime": {
     "end_time": "2020-10-15T13:01:05.235467Z",
     "start_time": "2020-10-15T13:01:05.220475Z"
    },
    "id": "jMLyIC848I8i"
   },
   "outputs": [],
   "source": [
    "# for the most visited in 2018 take name, for others use label \"Other\"\n",
    "arr_2018[\"2018_name\"] = arr_2018[\"Country Name\"].where(arr_2018[\"visitors\"].rank(ascending=False) <= 25, \"Other\")"
   ]
  },
  {
   "cell_type": "code",
   "execution_count": null,
   "metadata": {
    "ExecuteTime": {
     "end_time": "2020-10-15T13:01:05.282311Z",
     "start_time": "2020-10-15T13:01:05.236434Z"
    },
    "id": "NibmXIyZ8I8i"
   },
   "outputs": [],
   "source": [
    "fig = px.bar(arr_2018.sort_values(by=\"visitors\", ascending=False), \n",
    "             y=\"visitors\", \n",
    "             x=\"2018_name\", \n",
    "            title=\"World Tourism 2018\",\n",
    "            barmode='group'\n",
    "            )\n",
    "fig.show()"
   ]
  },
  {
   "cell_type": "markdown",
   "metadata": {
    "id": "l9qfAfos8I8i"
   },
   "source": [
    "Top 20 counties, text labels through `text` parameter and formated using `update_traces` and changing the bar color via `color_discrete_sequence` parameter. "
   ]
  },
  {
   "cell_type": "code",
   "execution_count": null,
   "metadata": {
    "ExecuteTime": {
     "end_time": "2020-10-15T13:01:05.328188Z",
     "start_time": "2020-10-15T13:01:05.285305Z"
    },
    "id": "Ihd3rChW8I8i"
   },
   "outputs": [],
   "source": [
    "fig = px.bar(arr_2018.sort_values(by=\"visitors\", ascending=False)[:20], \n",
    "             y=\"visitors\", \n",
    "             x=\"2018_name\", \n",
    "            title=\"World Tourism 2018\",\n",
    "            barmode='group',\n",
    "             text=\"visitors\",\n",
    "             #color=\"2018_name\"  # for some reason it makes the bars very thin\n",
    "             color_discrete_sequence =[\"#008037\"]\n",
    "            )\n",
    "fig.update_traces(texttemplate='%{text:.2s}', \n",
    "                  textposition=\"outside\",\n",
    "                 )\n",
    "fig.update_layout(xaxis={\"title\":\"countries\"})\n",
    "fig.show()"
   ]
  },
  {
   "cell_type": "code",
   "execution_count": null,
   "metadata": {
    "ExecuteTime": {
     "end_time": "2020-10-15T13:01:05.360103Z",
     "start_time": "2020-10-15T13:01:05.330185Z"
    },
    "id": "vZlSvnYA8I8i"
   },
   "outputs": [],
   "source": [
    "arr_2018"
   ]
  },
  {
   "cell_type": "markdown",
   "metadata": {
    "ExecuteTime": {
     "end_time": "2020-08-30T13:23:27.684426Z",
     "start_time": "2020-08-30T13:23:27.680435Z"
    },
    "id": "yaAxaLx98I8j"
   },
   "source": [
    "The other column is still too high, you can play with it and split it by continent. But let's explore another feature of Plotly, the continuous color scale. If we set color as a column with numerical range, rather than categorical, we automatically get the continuous color scale. You can apply various predefined color scales:\n",
    "https://plotly.com/python/builtin-colorscales/"
   ]
  },
  {
   "cell_type": "code",
   "execution_count": null,
   "metadata": {
    "ExecuteTime": {
     "end_time": "2020-10-15T13:01:05.439926Z",
     "start_time": "2020-10-15T13:01:05.361102Z"
    },
    "id": "qFZaSPU98I8j"
   },
   "outputs": [],
   "source": [
    "fig = px.bar(arr_2018.fillna(0).sort_values(by=\"visitors\", ascending=False), \n",
    "             y=\"visitors\", \n",
    "             x=\"2018_name\", \n",
    "            title=\"World Tourism 2018\",\n",
    "            barmode='group',\n",
    "             color = \"visitors\",\n",
    "             color_continuous_scale=px.colors.sequential.Viridis\n",
    "            )\n",
    "fig.update_layout(xaxis={\"title\":\"countries\"})\n",
    "fig.show()"
   ]
  },
  {
   "cell_type": "markdown",
   "metadata": {
    "id": "lm6N3QCF8I8j"
   },
   "source": [
    "## Combine bar and line chart"
   ]
  },
  {
   "cell_type": "code",
   "execution_count": null,
   "metadata": {
    "ExecuteTime": {
     "end_time": "2020-10-15T13:01:05.455847Z",
     "start_time": "2020-10-15T13:01:05.440888Z"
    },
    "id": "lnbZRrw68I8j"
   },
   "outputs": [],
   "source": [
    "# Create simple dataset\n",
    "df = pd.DataFrame({\"revenue\":[100,200,300], \"cost\":[-150,-150,-200], \"year\":[2018,2019,2020]})\n",
    "df[\"profit\"] = df[\"revenue\"]+df[\"cost\"]"
   ]
  },
  {
   "cell_type": "code",
   "execution_count": null,
   "metadata": {
    "ExecuteTime": {
     "end_time": "2020-10-15T13:01:05.501730Z",
     "start_time": "2020-10-15T13:01:05.456846Z"
    },
    "id": "fld_n2_j8I8j"
   },
   "outputs": [],
   "source": [
    "# adding line to a bar doesn't work\n",
    "\n",
    "fig = px.bar(df, x=\"year\", y=\"profit\", title=\"Bar chart without any line\")\n",
    "try:\n",
    "    fig.add_line(x=df[\"year\"],y=df[\"profit\"])\n",
    "except Exception as e:\n",
    "    print(e)\n",
    "fig.show()"
   ]
  },
  {
   "cell_type": "code",
   "execution_count": null,
   "metadata": {
    "ExecuteTime": {
     "end_time": "2020-10-15T13:01:05.547602Z",
     "start_time": "2020-10-15T13:01:05.502722Z"
    },
    "id": "TgyxlKd-8I8j"
   },
   "outputs": [],
   "source": [
    "# adding bars to line chart is possible, but not very flexible. \n",
    "fig = px.line(df, x=\"year\", y=\"profit\", title=\"Profit\")\n",
    "fig.add_bar(x=df[\"year\"],y=df[\"revenue\"], name=\"revenue\")\n",
    "fig.add_bar(x=df[\"year\"],y=df[\"cost\"], name=\"cost\")\n",
    "fig.show()"
   ]
  },
  {
   "cell_type": "code",
   "execution_count": null,
   "metadata": {
    "ExecuteTime": {
     "end_time": "2020-10-15T13:01:05.579548Z",
     "start_time": "2020-10-15T13:01:05.549597Z"
    },
    "id": "-tNYXzZV8I8j"
   },
   "outputs": [],
   "source": [
    "pd.concat(data)"
   ]
  },
  {
   "cell_type": "markdown",
   "metadata": {
    "id": "7IzLJkmv8I8k"
   },
   "source": [
    "## Animated Bar Chart"
   ]
  },
  {
   "cell_type": "code",
   "execution_count": null,
   "metadata": {
    "ExecuteTime": {
     "end_time": "2020-10-15T13:01:05.767017Z",
     "start_time": "2020-10-15T13:01:05.580514Z"
    },
    "id": "KXXEOqkh8I8m"
   },
   "outputs": [],
   "source": [
    "data = []\n",
    "for y in melted_df[\"years\"].unique():\n",
    "    sub_df = melted_df[melted_df[\"years\"]==y].sort_values(by=\"visitors\", ascending=False)[:10]\n",
    "    data.append(sub_df)\n",
    "\n",
    "fig = px.bar(pd.concat(data).sort_values(by=\"visitors\", ascending=True), \n",
    "             y=\"Country Name\", x=\"visitors\", \n",
    "             orientation=\"h\", animation_frame=\"years\",\n",
    "            title=\"Evolution of Tourism\",\n",
    "            text=\"visitors\")\n",
    "fig.update_layout(xaxis={\"range\":[0,100000000]},\n",
    "                 yaxis={\"title\":{\"standoff\":150}, \"tickwidth\": 200, \"automargin\": True})\n",
    "                  #yaxis={\"title\":{\"standoff\":150}, \"ticklen\": 200, \"automargin\": False})\n",
    "fig.update_traces(texttemplate='%{text:.2s}', \n",
    "                  textposition=\"outside\"\n",
    "                 )"
   ]
  },
  {
   "cell_type": "markdown",
   "metadata": {
    "id": "0CcCrFva8I8m"
   },
   "source": [
    "# Histograms\n",
    "There's separater article and notebook going into the details of the Plotly Express histograms. \n",
    "\n",
    "* Article: https://towardsdatascience.com/histograms-with-plotly-express-complete-guide-d483656c5ad7\n",
    "* Notebook: https://github.com/vaclavdekanovsky/data-analysis-in-examples/blob/master/Vizualizations/Plotly/Histogram/Histograms.ipynb"
   ]
  },
  {
   "cell_type": "markdown",
   "metadata": {
    "id": "oxJpG07E8I8m"
   },
   "source": [
    "# Pie Chart"
   ]
  },
  {
   "cell_type": "code",
   "execution_count": null,
   "metadata": {
    "ExecuteTime": {
     "end_time": "2020-10-15T13:01:05.828880Z",
     "start_time": "2020-10-15T13:01:05.768014Z"
    },
    "id": "MvPGE2eG8I8m"
   },
   "outputs": [],
   "source": [
    "fig = px.pie(arr_2018.sort_values(by=\"visitors\", ascending=False), \n",
    "             values=\"visitors\", \n",
    "             names=\"2018_name\",\n",
    "             # rename the label on the hover\n",
    "             labels={'2018_name':'country'},\n",
    "            title=\"2018 visitors\")\n",
    "fig.update_traces(textposition='inside', textinfo='percent+value+label')\n",
    "fig.update_traces(pull=[.3,.2,.1])"
   ]
  },
  {
   "cell_type": "markdown",
   "metadata": {
    "ExecuteTime": {
     "end_time": "2020-08-31T18:30:59.330985Z",
     "start_time": "2020-08-31T18:30:59.327992Z"
    },
    "id": "wXygYwR18I8m"
   },
   "source": [
    "## Donnut chart - pie with hole"
   ]
  },
  {
   "cell_type": "code",
   "execution_count": null,
   "metadata": {
    "ExecuteTime": {
     "end_time": "2020-10-15T13:01:05.874759Z",
     "start_time": "2020-10-15T13:01:05.829849Z"
    },
    "id": "iakhhSl58I8m"
   },
   "outputs": [],
   "source": [
    "fig = px.pie(arr_2018.sort_values(by=\"visitors\", ascending=False)[:10], \n",
    "             values=\"visitors\", \n",
    "             names=\"2018_name\",\n",
    "             # rename the label on the hover\n",
    "             labels={'2018_name':'country'},\n",
    "            title=\"2018 visitors\",\n",
    "            hole=.3)\n",
    "fig.update_traces(textposition='inside', textinfo='percent+label')"
   ]
  },
  {
   "cell_type": "markdown",
   "metadata": {
    "ExecuteTime": {
     "end_time": "2020-08-31T18:34:51.251009Z",
     "start_time": "2020-08-31T18:34:51.247020Z"
    },
    "id": "jHj7K2rT8I8n"
   },
   "source": [
    "# Sunburts plot"
   ]
  },
  {
   "cell_type": "code",
   "execution_count": null,
   "metadata": {
    "ExecuteTime": {
     "end_time": "2020-10-15T13:01:05.983437Z",
     "start_time": "2020-10-15T13:01:05.875726Z"
    },
    "id": "J3lp9aYW8I8n"
   },
   "outputs": [],
   "source": [
    "chart_df = arr_2018.sort_values(by=\"visitors\", ascending=False)[:10]\n",
    "chart_df[\"visitors\"] = round(chart_df[\"visitors\"]/10000000)\n",
    "chart_df[\"visitors\"] = chart_df[\"visitors\"].astype(int)\n",
    "fig = px.sunburst(\n",
    "    chart_df,\n",
    "    path=['Region', '2018_name'],\n",
    "    values='visitors',\n",
    ")\n",
    "fig.show()"
   ]
  },
  {
   "cell_type": "markdown",
   "metadata": {
    "ExecuteTime": {
     "end_time": "2020-08-31T19:11:25.877989Z",
     "start_time": "2020-08-31T19:11:25.873994Z"
    },
    "id": "3-cGCCDo8I8n"
   },
   "source": [
    "# Treemap"
   ]
  },
  {
   "cell_type": "code",
   "execution_count": null,
   "metadata": {
    "ExecuteTime": {
     "end_time": "2020-10-15T13:01:06.125060Z",
     "start_time": "2020-10-15T13:01:05.984435Z"
    },
    "id": "6cO0hGZH8I8n"
   },
   "outputs": [],
   "source": [
    "fig = px.treemap(arr_2018.sort_values(by=\"visitors\", ascending=False)[:50], \n",
    "             values=\"visitors\", \n",
    "             path=['Region', 'Country Name'],\n",
    "             color=\"visitors\",\n",
    "            title=\"2018 visitors (top 50 countries)\",\n",
    "            color_continuous_scale='RdBu',\n",
    "            #color_continuous_midpoint=20000000\n",
    "           )\n",
    "fig.show()"
   ]
  },
  {
   "cell_type": "code",
   "execution_count": null,
   "metadata": {
    "ExecuteTime": {
     "end_time": "2020-10-15T13:01:06.201854Z",
     "start_time": "2020-10-15T13:01:06.127053Z"
    },
    "id": "KzbNr5vS8I8n"
   },
   "outputs": [],
   "source": [
    "fig = px.treemap(arr_2018.sort_values(by=\"visitors\", ascending=False)[:50], \n",
    "            values=\"visitors\", \n",
    "            path=['Region', 'Country Name'],\n",
    "            color=\"Region\",\n",
    "            title=\"2018 visitors (top 50 countries)\",\n",
    "            hover_data={\"Region\":False},\n",
    "            labels={'labels':'Country'},\n",
    "           )\n",
    "fig.show()"
   ]
  },
  {
   "cell_type": "markdown",
   "metadata": {
    "ExecuteTime": {
     "end_time": "2020-08-31T19:30:15.447221Z",
     "start_time": "2020-08-31T19:30:15.444229Z"
    },
    "id": "va3cNBFw8I8n"
   },
   "source": [
    "# Chropleth\n",
    "Working with the geospacial data, especially on the country level is easy with plotly. "
   ]
  },
  {
   "cell_type": "code",
   "execution_count": null,
   "metadata": {
    "ExecuteTime": {
     "end_time": "2020-10-15T13:01:06.295618Z",
     "start_time": "2020-10-15T13:01:06.202852Z"
    },
    "id": "1zzPU51l8I8n"
   },
   "outputs": [],
   "source": [
    "fig = px.choropleth(\n",
    "    arr_2018, \n",
    "    locations=\"Country Code\",                    \n",
    "    color=\"visitors\",\n",
    "    hover_name=\"Country Name\", # column to add to hover information\n",
    "    color_continuous_scale=px.colors.sequential.matter)\n",
    "fig.show()"
   ]
  },
  {
   "cell_type": "markdown",
   "metadata": {
    "id": "QD_To4Mw8I8o"
   },
   "source": [
    "zoom in with `scope`"
   ]
  },
  {
   "cell_type": "code",
   "execution_count": null,
   "metadata": {
    "ExecuteTime": {
     "end_time": "2020-10-15T13:01:06.343475Z",
     "start_time": "2020-10-15T13:01:06.296602Z"
    },
    "id": "sG83IQbd8I8o"
   },
   "outputs": [],
   "source": [
    "fig = px.choropleth(arr_2018, locations=\"Country Code\",\n",
    "                    color=\"visitors\", # lifeExp is a column of gapminder\n",
    "                    hover_name=\"Country Name\", # column to add to hover information\n",
    "                    color_continuous_scale=px.colors.sequential.matter,\n",
    "                   scope=\"south america\"\n",
    "                   )          \n",
    "fig.show()"
   ]
  },
  {
   "cell_type": "markdown",
   "metadata": {
    "ExecuteTime": {
     "end_time": "2020-08-31T20:15:58.843986Z",
     "start_time": "2020-08-31T20:15:58.840986Z"
    },
    "id": "TnkyepR68I8o"
   },
   "source": [
    "# Scatterplot\n",
    "## World map with scatter_geo"
   ]
  },
  {
   "cell_type": "code",
   "execution_count": null,
   "metadata": {
    "ExecuteTime": {
     "end_time": "2020-10-15T13:01:06.658632Z",
     "start_time": "2020-10-15T13:01:06.344473Z"
    },
    "id": "RT-cla7n8I8o"
   },
   "outputs": [],
   "source": [
    "fig = px.scatter_geo(\n",
    "    melted_df.fillna(0), \n",
    "    locations =\"Country Code\", \n",
    "    color=\"visitors\",\n",
    "    size=\"visitors\",\n",
    "    # what is the size of the biggest scatter point\n",
    "    size_max = 30,\n",
    "    projection=\"natural earth\",\n",
    "    # range, important to keep the same range on all charts\n",
    "    range_color=(0, 100000000),\n",
    "    # columns which is in bold in the pop up\n",
    "    hover_name = \"Country Name\",\n",
    "    # format of the popup not to display these columns' data\n",
    "    hover_data = {\"Country Name\":False, \"Country Code\": False},\n",
    "    title=\"International Tourism\",\n",
    "    animation_frame=\"years\"\n",
    "                     )\n",
    "fig.update_geos(showcountries = True)\n",
    "fig.show()"
   ]
  },
  {
   "cell_type": "markdown",
   "metadata": {
    "id": "RyUFBPUB8I8o"
   },
   "source": [
    "To get some relations into the data, let's combine the number of visitors with the income these visitors have brought to the countries. In this case, I will join melted receipts to metled visitors to have two columns with data. These can be assigned to `x` and `y` of the plot."
   ]
  },
  {
   "cell_type": "code",
   "execution_count": null,
   "metadata": {
    "ExecuteTime": {
     "end_time": "2020-10-15T13:01:06.689580Z",
     "start_time": "2020-10-15T13:01:06.659631Z"
    },
    "id": "F-UBAks48I8o"
   },
   "outputs": [],
   "source": [
    "year_receipts = wide_receipts # pd.read_pickle(\"../Preprocess/rec.plk\")\n",
    "melted_receipts = year_receipts.melt(id_vars=[\"Country Name\",\"Country Code\"], \n",
    "                              var_name=\"years\",\n",
    "                             value_name=\"receipts\")\n",
    "scatter_df = melted_df.merge(melted_receipts, on=[\"Country Name\",\"Country Code\",\"years\"]).fillna(0)\n",
    "scatter_df.sample(3)"
   ]
  },
  {
   "cell_type": "code",
   "execution_count": null,
   "metadata": {
    "ExecuteTime": {
     "end_time": "2020-10-15T13:01:06.784297Z",
     "start_time": "2020-10-15T13:01:06.690548Z"
    },
    "id": "llnNWPud8I8o"
   },
   "outputs": [],
   "source": [
    "px.scatter(scatter_df[scatter_df[\"years\"]==\"2018\"],\n",
    "          x=\"visitors\",\n",
    "          y=\"receipts\",\n",
    "          color=\"Region\",\n",
    "          hover_name=\"Country Name\",\n",
    "          size=\"receipts\")"
   ]
  },
  {
   "cell_type": "code",
   "execution_count": null,
   "metadata": {
    "ExecuteTime": {
     "end_time": "2020-10-15T13:01:08.554940Z",
     "start_time": "2020-10-15T13:01:06.785294Z"
    },
    "id": "x141CGH48I8o"
   },
   "outputs": [],
   "source": [
    "px.scatter(scatter_df[scatter_df[\"years\"]==\"2018\"],\n",
    "          x=\"visitors\",\n",
    "          y=\"receipts\",\n",
    "          #color=\"Region\",\n",
    "          hover_name=\"Country Name\",\n",
    "          size=\"receipts\",\n",
    "          marginal_x=\"rug\",\n",
    "          marginal_y=\"violin\",\n",
    "          trendline=\"lowess\")"
   ]
  },
  {
   "cell_type": "code",
   "execution_count": null,
   "metadata": {
    "id": "1BR4tzdf8I8p"
   },
   "outputs": [],
   "source": [
    "two018 = scatter_df[scatter_df[\"years\"]==\"2018\"]\n",
    "two018[\"type\"] = np.where(two018[\"Region\"]==\"Europe & Central Asia\", \"European\", \"Outside\")\n",
    "fig = px.scatter(two018,\n",
    "          x=\"visitors\",\n",
    "          y=\"receipts\",\n",
    "          color=\"type\",\n",
    "          hover_name=\"Country Name\",\n",
    "          size=\"receipts\",\n",
    "          marginal_x=\"histogram\",\n",
    "          marginal_y=\"box\",\n",
    "          trendline=\"ols\",\n",
    "          title=\"Scatter plot with histogram and box marginal plot and two trendlines\")\n",
    "fig.show()"
   ]
  },
  {
   "cell_type": "markdown",
   "metadata": {
    "id": "wKSLNQpJ8I8p"
   },
   "source": [
    "Print the regression parameters of the trendline. First get the values using get_trendline_results and then display them using statsmodels .summary() function."
   ]
  },
  {
   "cell_type": "code",
   "execution_count": null,
   "metadata": {
    "id": "vI50W8768I8p"
   },
   "outputs": [],
   "source": [
    "res = px.get_trendline_results(fig)\n",
    "european_trendline = res[res[\"type\"]==\"European\"][\"px_fit_results\"].iloc[0]\n",
    "print(type(european_trendline))"
   ]
  },
  {
   "cell_type": "code",
   "execution_count": null,
   "metadata": {
    "id": "uEOeaPod8I8p"
   },
   "outputs": [],
   "source": [
    "european_trendline.summary()"
   ]
  },
  {
   "cell_type": "markdown",
   "metadata": {
    "id": "_ZXQ0xqR8I8p"
   },
   "source": [
    "## Histogram"
   ]
  },
  {
   "cell_type": "code",
   "execution_count": null,
   "metadata": {
    "id": "Xtwo-5XJ8I8p"
   },
   "outputs": [],
   "source": [
    "px.histogram(arr_2018, x=\"visitors\")"
   ]
  },
  {
   "cell_type": "code",
   "execution_count": null,
   "metadata": {
    "id": "pfyVivI18I8p"
   },
   "outputs": [],
   "source": [
    "# cumulative histogram adds on the top of previous bins\n",
    "px.histogram(arr_2018, x=\"visitors\", cumulative=True)"
   ]
  },
  {
   "cell_type": "code",
   "execution_count": null,
   "metadata": {
    "id": "kvn3UZBJ8I8q"
   },
   "outputs": [],
   "source": [
    "# nbins paramter influences the number of bins\n",
    "px.histogram(arr_2018, x=\"visitors\", nbins=5)"
   ]
  },
  {
   "cell_type": "markdown",
   "metadata": {
    "id": "_aqAcTQT8I8q"
   },
   "source": [
    "### Histnorm\n",
    "Histnorm parameter basically influence the look of the y-axis (x-axis if vertical histogram). It can be:\n",
    "\n",
    "* `None` - histogram shows the aggregated values (most often it's count)\n",
    "* `percent` - axis shows values 0-100 showing number of percent in the bin\n",
    "* `probability` - axis show values 0-1 displaying the probability that the value appear in the bin\n",
    "* `density` - the output of histfunc for a given bin is divided by the size of the bin\n",
    "* `probability density` - he output of histfunc for a given bin is normalized such that it corresponds to the probability that a random event whose distribution is described by the output of histfunc will fall into that bin\n"
   ]
  },
  {
   "cell_type": "code",
   "execution_count": null,
   "metadata": {
    "id": "OYNmkeU-8I8q"
   },
   "outputs": [],
   "source": [
    "# if histnorm percent is used, then the y-axis shows percent not total count\n",
    "px.histogram(arr_2018, x=\"visitors\", nbins=5, histnorm=\"percent\")"
   ]
  },
  {
   "cell_type": "code",
   "execution_count": null,
   "metadata": {
    "id": "NQLbb8_e8I8q"
   },
   "outputs": [],
   "source": [
    "px.histogram(arr_2018, x=\"visitors\", nbins=5, histnorm=\"probability density\")"
   ]
  },
  {
   "cell_type": "code",
   "execution_count": null,
   "metadata": {
    "id": "K1gRlsV88I8q"
   },
   "outputs": [],
   "source": [
    "# you can do several histograms together, eg. for several years. Let's first set up a data frame containing 3 years.\n",
    "arr_2016_18 = melted_df[melted_df[\"years\"].isin([\"2016\",\"2017\",\"2018\"])]"
   ]
  },
  {
   "cell_type": "code",
   "execution_count": null,
   "metadata": {
    "id": "e67Z-ylX8I8q"
   },
   "outputs": [],
   "source": [
    "# barnorm=\"percent\" shows the percent of the values which fall to the bin\n",
    "px.histogram(arr_2016_18, x=\"visitors\", color=\"years\", barmode=\"group\", barnorm=\"\", cumulative=False)"
   ]
  },
  {
   "cell_type": "code",
   "execution_count": null,
   "metadata": {
    "id": "dR3HhMM48I8q"
   },
   "outputs": [],
   "source": [
    "# barnorm can be used in case we have several histograms. It shows how many percent fall into the particular bin in each category.\n",
    "# in our case we see that 0-5M visitors is split to 30% in 2018, 35% in 2017 and 35.5% in 2016.\n",
    "# since there was one country having 85M-90M visitors in 17' and 18' both occupy 50% of the bin\n",
    "px.histogram(arr_2016_18, x=\"visitors\", color=\"years\", barmode=\"group\", barnorm=\"percent\", cumulative=False)"
   ]
  },
  {
   "cell_type": "markdown",
   "metadata": {
    "id": "yP54XIiS8I8q"
   },
   "source": [
    "### Marginal\n",
    "Similarly like the scatter plot, the histograms also allow quick creation of marginal chart. All four types are available `rug`, `box`, `violin`, or `histogram`."
   ]
  },
  {
   "cell_type": "code",
   "execution_count": null,
   "metadata": {
    "id": "CCuBAMpt8I8r"
   },
   "outputs": [],
   "source": [
    "# barnorm=\"percent\" shows the percent of the values which fall to the bin\n",
    "px.histogram(arr_2016_18, x=\"visitors\", color=\"years\", barmode=\"stack\", marginal=\"violin\")"
   ]
  },
  {
   "cell_type": "markdown",
   "metadata": {
    "id": "-wzmowJ18I8r"
   },
   "source": [
    "# Buttons"
   ]
  },
  {
   "cell_type": "code",
   "execution_count": null,
   "metadata": {
    "id": "QbcG6I_Y8I8r"
   },
   "outputs": [],
   "source": [
    "fig = px.bar(arr_2018.sort_values(by=\"visitors\", ascending=False)[:10], \n",
    "             y=\"Country Name\", x=\"visitors\", \n",
    "            title=\"Evolution of Tourism\",\n",
    "             color_discrete_sequence= [\"red\"],\n",
    "            text=\"visitors\")\n",
    "# Add dropdown\n",
    "fig.update_layout(\n",
    "    updatemenus=[\n",
    "        # a dropdown `direction=\"down\"`\n",
    "        # changing the color of the bars\n",
    "        dict(\n",
    "            buttons=list([\n",
    "                dict(\n",
    "                    args=[\"marker.color\",[\"red\"]],\n",
    "                    label=\"Red\",\n",
    "                    method=\"restyle\"\n",
    "                ),\n",
    "                dict(\n",
    "                    args=[\"marker.color\",[\"green\"]],\n",
    "                    label=\"Green\",\n",
    "                    method=\"restyle\"\n",
    "                ),\n",
    "                dict(\n",
    "                    args=[{\"marker.color\":[\"blur\"]}],\n",
    "                    label=\"Blue\",\n",
    "                    method=\"restyle\"\n",
    "                )\n",
    "            ]),\n",
    "            direction=\"down\",\n",
    "            pad={\"r\": 10, \"t\": 10},\n",
    "            showactive=True,\n",
    "            x=0.3,\n",
    "            xanchor=\"left\",\n",
    "            y=1.25,\n",
    "            yanchor=\"top\"\n",
    "        ),\n",
    "        # second set of buttons updating the position of the labels\n",
    "        dict(\n",
    "            buttons=list([\n",
    "                dict(\n",
    "                    args=[{\"textposition\":\"inside\"}],\n",
    "                    label=\"Inside\",\n",
    "                    method=\"restyle\")\n",
    "                ,\n",
    "                dict(\n",
    "                    args=[{\"textposition\":\"outside\"}],\n",
    "                    label=\"Outisde\",\n",
    "                    method=\"restyle\"\n",
    "                )\n",
    "            ]),\n",
    "            type = \"buttons\",\n",
    "            direction=\"left\",\n",
    "            pad={\"r\": 10, \"t\": 10},\n",
    "            showactive=True,\n",
    "            x=0.5,\n",
    "            xanchor=\"left\",\n",
    "            y=1.25,\n",
    "            yanchor=\"top\"\n",
    "        ),\n",
    "        # third set of buttons updating the text format of the labels\n",
    "        dict(\n",
    "            buttons=list([\n",
    "                {\n",
    "                    \"args\":[{'texttemplate': '%{text:.2s}'}],\n",
    "                    \"label\":\"million\",\n",
    "                    \"method\":\"restyle\"\n",
    "                },\n",
    "                {\n",
    "                \"args\":[{'texttemplate': '%{text:0.}'}],\n",
    "                    \"label\":\"full\",\n",
    "                    \"method\":\"restyle\"\n",
    "                }\n",
    "            ]),\n",
    "            type = \"buttons\",\n",
    "            direction=\"left\",\n",
    "            pad={\"r\": 10, \"t\": 10},\n",
    "            showactive=True,\n",
    "            x=0.5,\n",
    "            xanchor=\"left\",\n",
    "            y=1.15,\n",
    "            yanchor=\"top\"\n",
    "        )])\n",
    "\n",
    "fig.show()"
   ]
  },
  {
   "cell_type": "markdown",
   "metadata": {
    "id": "5buoTmLB8I8r"
   },
   "source": [
    "\n",
    "### Positions and anchor of the buttons. "
   ]
  },
  {
   "cell_type": "code",
   "execution_count": null,
   "metadata": {
    "id": "pymgKikk8I8r"
   },
   "outputs": [],
   "source": [
    "df = arr_2018.sort_values(by=\"visitors\", ascending=False)\n",
    "\n",
    "fig = px.pie(df[:10], \n",
    "             values=\"visitors\", \n",
    "             names=\"2018_name\",\n",
    "             # rename the label on the hover\n",
    "             labels={'2018_name':'country'},\n",
    "             title=\"Buttons' positions and anchors\",\n",
    "             hole=.3)\n",
    "\n",
    "# click on x: left 0, y: top 0 to change to empty chart\n",
    "fig.update_layout(\n",
    "    updatemenus=[\n",
    "        # a dropdown `direction=\"down\"`\n",
    "        # changing the color of the bars\n",
    "        dict(\n",
    "            buttons=list([\n",
    "                dict(\n",
    "                    args=[{\"textinfo\":\"percent+value+label\"}],\n",
    "                    label=\"x:left 0, y:top 1\",\n",
    "                    method=\"restyle\"\n",
    "                )]),\n",
    "            \n",
    "            \n",
    "            type=\"buttons\",\n",
    "            showactive=False,\n",
    "            x=0,\n",
    "            xanchor=\"left\",\n",
    "            y=1,\n",
    "            yanchor=\"top\",\n",
    "            bgcolor=\"#39e\"\n",
    "        ),\n",
    "        dict(\n",
    "            buttons=list([\n",
    "                dict(\n",
    "                    args=[{\"textinfo\":\"percent+value\"}],\n",
    "                    label=\"x:left 0, y:bottom 1\",\n",
    "                    method=\"restyle\"\n",
    "                )]),\n",
    "            \n",
    "            \n",
    "            type=\"buttons\",\n",
    "            showactive=False,\n",
    "            x=0,\n",
    "            xanchor=\"left\",\n",
    "            y=1,\n",
    "            yanchor=\"bottom\",\n",
    "            bgcolor=\"#e93\"\n",
    "        ),\n",
    "        dict(\n",
    "            buttons=list([\n",
    "                dict(\n",
    "                    args=[{}],\n",
    "                    label=\"x:center 0, y:middle 0\",\n",
    "                    method=\"restyle\"\n",
    "                )]),\n",
    "            \n",
    "            \n",
    "            type=\"buttons\",\n",
    "            showactive=True,\n",
    "            x=0,\n",
    "            xanchor=\"center\",\n",
    "            y=0,\n",
    "            yanchor=\"middle\"\n",
    "        ),\n",
    "        dict(\n",
    "            buttons=list([\n",
    "                dict(\n",
    "                    args=[{\"type\":\"bar\", \n",
    "                           \"text\": np.array(df[\"visitors\"]), \n",
    "                           \"textposition\": \"auto\"}],\n",
    "                    label=\"x:right 0, y:bottom 0\",\n",
    "                    method=\"restyle\"\n",
    "                )]),\n",
    "            \n",
    "            \n",
    "            type=\"buttons\",\n",
    "            showactive=True,\n",
    "            x=0,\n",
    "            xanchor=\"right\",\n",
    "            y=0,\n",
    "            yanchor=\"bottom\"\n",
    "        ),\n",
    "        dict(\n",
    "            buttons=list([\n",
    "                dict(\n",
    "                    args=[{\"type\":\"bar\", \n",
    "                           \"marker.color\":\"violet\",\n",
    "                          \"x\": df[\"Country Name\"][:15].values,\n",
    "                          \"y\": df[\"visitors\"][:15].values,\n",
    "                          \"xaxis\":\"x\",\n",
    "                          \"yaxis\":\"y\"}],\n",
    "                    label=\"x:left 0, y:top 0\",\n",
    "                    method=\"restyle\"\n",
    "                )]),\n",
    "            \n",
    "            \n",
    "            type=\"buttons\",\n",
    "            showactive=True,\n",
    "            x=0,\n",
    "            xanchor=\"left\",\n",
    "            y=0,\n",
    "            yanchor=\"top\"\n",
    "        ),\n",
    "     dict(\n",
    "            buttons=list([\n",
    "                dict(\n",
    "                    args=[{}],\n",
    "                    label=\"x: center 1, y:middle 1\",\n",
    "                    method=\"restyle\"\n",
    "                )]),\n",
    "            \n",
    "            \n",
    "            type=\"buttons\",\n",
    "            showactive=True,\n",
    "            x=1,\n",
    "            xanchor=\"center\",\n",
    "            y=1,\n",
    "            yanchor=\"middle\"\n",
    "        ),\n",
    "    dict(\n",
    "            buttons=list([\n",
    "                dict(\n",
    "                    args=[{}],\n",
    "                    label=\"x:center 0.5, y:middle 1.3\",\n",
    "                    method=\"restyle\"\n",
    "                )]),\n",
    "            \n",
    "            \n",
    "            type=\"buttons\",\n",
    "            showactive=True,\n",
    "            x=0.5,\n",
    "            xanchor=\"center\",\n",
    "            y=1.1,\n",
    "            yanchor=\"middle\"\n",
    "        ),\n",
    "    dict(\n",
    "            buttons=list([\n",
    "                dict(\n",
    "                    args=[{\"xaxis.range\":[-2,10],\n",
    "                          \"yaxis.range\":[0,5.6]}],\n",
    "                    label=\"x:right 1, y:bottom 0 padded {'r': 10, 't': 10}\",\n",
    "                    method=\"relayout\",\n",
    "                    \n",
    "                )]),\n",
    "            \n",
    "            \n",
    "            type=\"buttons\",\n",
    "            showactive=True,\n",
    "            x=1,\n",
    "            xanchor=\"right\",\n",
    "            y=0,\n",
    "            yanchor=\"bottom\",\n",
    "        pad={\"r\": 10, \"t\": 10},\n",
    "        ),\n",
    "        # set of multiple buttons\n",
    "        dict(\n",
    "            buttons=list([\n",
    "                dict(\n",
    "                    args=[{}],\n",
    "                    label=\"x:right 1, y:bottom .5 button 1\",\n",
    "                    method=\"relayout\",\n",
    "                    \n",
    "                ),\n",
    "            dict(\n",
    "                    args=[{}],\n",
    "                    label=\"button 2\",\n",
    "                    method=\"relayout\",\n",
    "                    \n",
    "                )]),\n",
    "            \n",
    "            direction=\"left\",\n",
    "            type=\"buttons\",\n",
    "            showactive=True,\n",
    "            x=1,\n",
    "            xanchor=\"right\",\n",
    "            y=0.5,\n",
    "            yanchor=\"bottom\",\n",
    "        \n",
    "        )\n",
    "    ])\n",
    "\n",
    "fig.show()"
   ]
  },
  {
   "cell_type": "markdown",
   "metadata": {
    "id": "yDthTWyR8I8s"
   },
   "source": [
    "# Common issues\n",
    "As have already see some of the issues. Plotly can filter our dataset to display only relevant columns - e.g. only years when we have years and descriptive columns. That is perfect. On the other hand, sometimes it's annoying when you want to display only the grids at your date or int values, when plotly introduces extra data points and sort them in numerical order."
   ]
  },
  {
   "cell_type": "code",
   "execution_count": null,
   "metadata": {
    "id": "GwuNTu_Z8I8s"
   },
   "outputs": [],
   "source": [
    "# if you want to display which values are the most frequent and these values are integres\n",
    "df = pd.DataFrame({\"x\": [3]*10+[6]*5+[2]*1})\n",
    "df[\"x\"].value_counts().plot(kind=\"bar\")"
   ]
  },
  {
   "cell_type": "code",
   "execution_count": null,
   "metadata": {
    "id": "syzjVdaS8I8s"
   },
   "outputs": [],
   "source": [
    "# it's rather imposible with plotly which always set up the range containing all the numerical values\n",
    "fig = px.bar(df[\"x\"].value_counts())\n",
    "fig.show()"
   ]
  },
  {
   "cell_type": "code",
   "execution_count": null,
   "metadata": {
    "id": "0zOnGsjr8I8s"
   },
   "outputs": [],
   "source": [
    "fig.update_xaxes(type='category')\n",
    "fig.show()"
   ]
  },
  {
   "cell_type": "code",
   "execution_count": null,
   "metadata": {
    "id": "wHN8GTM-8I8t"
   },
   "outputs": [],
   "source": [
    "# Also the daterange labels on the x-axis can annoy you when you try to display end of the year/quarter dates. \n",
    "# Plotly will always turn them into the Jan next year or the beginning of the following quarter\n",
    "df = pd.DataFrame({\"x\":[\"2019-12-31\",\"2019-03-31\",\"2018-12-31\",\"2017-12-31\"],\n",
    "                   \"y\":[10,12, 15, 8]})\n",
    "fig = px.bar(df, x=\"x\", y=\"y\")\n",
    "fig.show()"
   ]
  },
  {
   "cell_type": "code",
   "execution_count": null,
   "metadata": {
    "id": "b8wzjBdQ8I8t"
   },
   "outputs": [],
   "source": [
    "# again the solution is to turn the axis into a category\n",
    "fig.update_xaxes(type='category')\n",
    "fig.show()"
   ]
  },
  {
   "cell_type": "code",
   "execution_count": null,
   "metadata": {
    "id": "Z6aGFf398I8t"
   },
   "outputs": [],
   "source": [
    "# Plotly also ignores invalid dates, once it decides the axis contain dates.\n",
    "df = pd.DataFrame({\"x\":[\"2019-12-31\",\"2018-12-31\",\"Ohter\"],\n",
    "                   \"y\":[10,12, 8]})\n",
    "fig = px.bar(df, x=\"x\", y=\"y\", color_discrete_sequence =[\"#ff914d\"])\n",
    "fig.update_xaxes(tickfont={\"size\":18})\n",
    "fig.show()"
   ]
  },
  {
   "cell_type": "code",
   "execution_count": null,
   "metadata": {
    "id": "5uuIYo0K8I8t"
   },
   "outputs": [],
   "source": [
    "fig.update_xaxes(type='category')\n",
    "fig.show()"
   ]
  },
  {
   "cell_type": "markdown",
   "metadata": {
    "id": "WofnSHWA8I8t"
   },
   "source": [
    "# Plotly as default pandas backend"
   ]
  },
  {
   "cell_type": "code",
   "execution_count": null,
   "metadata": {
    "id": "aUL5yTij8I8t"
   },
   "outputs": [],
   "source": [
    "pd.options.plotting.backend = \"plotly\""
   ]
  },
  {
   "cell_type": "code",
   "execution_count": null,
   "metadata": {
    "id": "JaOi5QAx8I8t"
   },
   "outputs": [],
   "source": [
    "fig = df.plot(kind=\"bar\", x=\"x\", y=\"y\", text=\"y\")\n",
    "fig.show()"
   ]
  },
  {
   "cell_type": "code",
   "execution_count": null,
   "metadata": {
    "id": "sjvyQzPL8I8u"
   },
   "outputs": [],
   "source": [
    "# return to default matplotlib backend\n",
    "pd.options.plotting.backend = \"matplotlib\""
   ]
  }
 ],
 "metadata": {
  "colab": {
   "collapsed_sections": [
    "0CcCrFva8I8m"
   ],
   "name": "PlotlyExpress_ComprehensiveGuide.ipynb",
   "provenance": []
  },
  "kernelspec": {
   "display_name": "Python 3",
   "language": "python",
   "name": "python3"
  },
  "language_info": {
   "codemirror_mode": {
    "name": "ipython",
    "version": 3
   },
   "file_extension": ".py",
   "mimetype": "text/x-python",
   "name": "python",
   "nbconvert_exporter": "python",
   "pygments_lexer": "ipython3",
   "version": "3.8.3"
  },
  "toc": {
   "base_numbering": 1,
   "nav_menu": {},
   "number_sections": true,
   "sideBar": true,
   "skip_h1_title": false,
   "title_cell": "Table of Contents",
   "title_sidebar": "Contents",
   "toc_cell": false,
   "toc_position": {},
   "toc_section_display": true,
   "toc_window_display": false
  },
  "varInspector": {
   "cols": {
    "lenName": 16,
    "lenType": 16,
    "lenVar": 40
   },
   "kernels_config": {
    "python": {
     "delete_cmd_postfix": "",
     "delete_cmd_prefix": "del ",
     "library": "var_list.py",
     "varRefreshCmd": "print(var_dic_list())"
    },
    "r": {
     "delete_cmd_postfix": ") ",
     "delete_cmd_prefix": "rm(",
     "library": "var_list.r",
     "varRefreshCmd": "cat(var_dic_list()) "
    }
   },
   "types_to_exclude": [
    "module",
    "function",
    "builtin_function_or_method",
    "instance",
    "_Feature"
   ],
   "window_display": false
  }
 },
 "nbformat": 4,
 "nbformat_minor": 4
}

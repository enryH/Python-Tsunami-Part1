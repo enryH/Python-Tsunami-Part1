{
 "cells": [
  {
   "cell_type": "markdown",
   "metadata": {},
   "source": [
    "<img src=\"figures/HeaDS_logo_large_withTitle.png\" width=\"300\">\n",
    "\n",
    "<img src=\"figures/tsunami_logo.PNG\" width=\"600\">\n",
    "\n",
    "[![Open In Colab](https://colab.research.google.com/assets/colab-badge.svg)](https://colab.research.google.com/github/Center-for-Health-Data-Science/PythonTsunami/blob/intro/0_intro.ipynb)\n"
   ]
  },
  {
   "cell_type": "markdown",
   "metadata": {
    "slideshow": {
     "slide_type": "subslide"
    }
   },
   "source": [
    "## Colab \n",
    "\n",
    "In this course we use [Google Colab](https://colab.research.google.com/) to execute notebooks. Notebooks are documents allowing\n",
    "the combination of text, code and the output of code. Colab offers an extended set of\n",
    "pre-installed tools. See the [tutorial series](https://www.youtube.com/playlist?list=PLQY2H8rRoyvyK5aEDAI3wUUqC_F0oEroL)."
   ]
  },
  {
   "cell_type": "markdown",
   "metadata": {
    "slideshow": {
     "slide_type": "subslide"
    }
   },
   "source": [
    "### Saving the notebook in Drive\n",
    "Save a copy in your drive if you want to save your changes: `File` -> `Save a copy in Drive`\n",
    "\n",
    "\n",
    "![Save Colab Notebook in Google Drive](figures/colab_save_in_drive.png)\n",
    "\n",
    "or \n",
    "\n",
    "![Save Colab Notebook in Google Drive](figures/colab_save_in_drive_2.png)\n"
   ]
  },
  {
   "cell_type": "markdown",
   "metadata": {
    "slideshow": {
     "slide_type": "fragment"
    }
   },
   "source": [
    "**Table of Contents in Colab**\n",
    "> Allows easier navigation\n",
    "\n",
    "![Table of content in Colab](figures/colab_toc.png)"
   ]
  },
  {
   "cell_type": "markdown",
   "metadata": {
    "slideshow": {
     "slide_type": "slide"
    }
   },
   "source": [
    "## What is Python?\n",
    "\n",
    "- a programming language?\n",
    "- a community of developers?\n",
    "- PyData? Jupyter? SciPy?\n",
    "- A highlevel language to use many tools"
   ]
  },
  {
   "cell_type": "markdown",
   "metadata": {
    "slideshow": {
     "slide_type": "subslide"
    }
   },
   "source": [
    "### An attempt for a great and beautiful programming language\n",
    "\n",
    "It's based on the idea to be readable, consistent and easy to learn. [Guido van Rossum](https://twitter.com/gvanrossum)\n",
    "\n",
    "> \"programming languages are how programmers express and communicate ideas — and the audience for those ideas is other programmers, not computers.\" ([king's day speach, 2016](http://neopythonic.blogspot.com/2016/04/kings-day-speech.html))"
   ]
  },
  {
   "cell_type": "code",
   "execution_count": null,
   "metadata": {
    "slideshow": {
     "slide_type": "fragment"
    }
   },
   "outputs": [],
   "source": [
    "import this"
   ]
  },
  {
   "cell_type": "code",
   "execution_count": null,
   "metadata": {
    "slideshow": {
     "slide_type": "fragment"
    }
   },
   "outputs": [],
   "source": [
    "love = this\n",
    "this is love"
   ]
  },
  {
   "cell_type": "code",
   "execution_count": null,
   "metadata": {
    "slideshow": {
     "slide_type": "fragment"
    }
   },
   "outputs": [],
   "source": [
    "love is True"
   ]
  },
  {
   "cell_type": "code",
   "execution_count": null,
   "metadata": {
    "slideshow": {
     "slide_type": "fragment"
    }
   },
   "outputs": [],
   "source": [
    "love is False"
   ]
  },
  {
   "cell_type": "code",
   "execution_count": null,
   "metadata": {
    "slideshow": {
     "slide_type": "fragment"
    }
   },
   "outputs": [],
   "source": [
    "love is not True or False"
   ]
  },
  {
   "cell_type": "code",
   "execution_count": null,
   "metadata": {
    "slideshow": {
     "slide_type": "fragment"
    }
   },
   "outputs": [],
   "source": [
    "love is love"
   ]
  },
  {
   "cell_type": "markdown",
   "metadata": {
    "slideshow": {
     "slide_type": "subslide"
    }
   },
   "source": [
    "### Python Data model\n",
    "\n",
    "- everything is an object\n",
    "- syntax is calling so called `magic` - methods (`__truediv__` here)"
   ]
  },
  {
   "cell_type": "code",
   "execution_count": null,
   "metadata": {
    "slideshow": {
     "slide_type": "fragment"
    }
   },
   "outputs": [],
   "source": [
    "12 / 4"
   ]
  },
  {
   "cell_type": "code",
   "execution_count": null,
   "metadata": {
    "slideshow": {
     "slide_type": "fragment"
    }
   },
   "outputs": [],
   "source": [
    "a = 12\n",
    "a.__truediv__(4)"
   ]
  },
  {
   "cell_type": "code",
   "execution_count": null,
   "metadata": {
    "slideshow": {
     "slide_type": "fragment"
    }
   },
   "outputs": [],
   "source": [
    "from pathlib import Path\n",
    "Path('path/to/') / \"file\""
   ]
  },
  {
   "cell_type": "code",
   "execution_count": null,
   "metadata": {
    "slideshow": {
     "slide_type": "fragment"
    }
   },
   "outputs": [],
   "source": [
    "a = Path('path/to/')\n",
    "a.__truediv__(\"file\")"
   ]
  },
  {
   "cell_type": "code",
   "execution_count": null,
   "metadata": {
    "slideshow": {
     "slide_type": "fragment"
    }
   },
   "outputs": [],
   "source": [
    "a = [1, 2, 6, 9]\n",
    "len(a)"
   ]
  },
  {
   "cell_type": "code",
   "execution_count": null,
   "metadata": {
    "slideshow": {
     "slide_type": "fragment"
    }
   },
   "outputs": [],
   "source": [
    "# ?"
   ]
  },
  {
   "cell_type": "markdown",
   "metadata": {
    "slideshow": {
     "slide_type": "subslide"
    }
   },
   "source": [
    "### Python clients\n",
    "\n",
    "Clients are a way to call other programs having a similar (and easier) API\n",
    "\n",
    "- [pyspark](https://databricks.com/glossary/pyspark) [[docs]()]\n",
    "    - the same exist for other languages, as for [R](https://spark.apache.org/docs/latest/sparkr.html)\n",
    "- tensorflow\n",
    "- pytorch\n",
    "- etc (see next slide)\n",
    "\n",
    "> Speaking python allows you to use many other tools by provided librariers or clients."
   ]
  },
  {
   "cell_type": "markdown",
   "metadata": {
    "slideshow": {
     "slide_type": "slide"
    }
   },
   "source": [
    "## Python for Datascience\n",
    "\n",
    "- data manipulation\n",
    "    - [pandas](https://pandas.pydata.org/pandas-docs/stable/user_guide/10min.html)\n",
    "    - [numpy](https://numpy.org/doc/stable/user/quickstart.html)\n",
    "- plotting\n",
    "    - [matplotlib](https://matplotlib.org/)\n",
    "    - [seaborn](https://seaborn.pydata.org/introduction.html)\n",
    "    - [pandas](https://pandas.pydata.org/pandas-docs/stable/user_guide/visualization.html)\n",
    "- machine learning (science of learning from data)\n",
    "    - [scikit-learn](https://scikit-learn.org/stable/)\n",
    "    - [tensorflow](https://www.tensorflow.org/)\n",
    "    - [pytorch](https://pytorch.org/)\n",
    "\n",
    "> Mainly you will learn to use APIs in Python syntax"
   ]
  },
  {
   "cell_type": "markdown",
   "metadata": {
    "slideshow": {
     "slide_type": "fragment"
    }
   },
   "source": [
    "> An **application programming interface (API)** is a computing interface which defines interactions between multiple software intermediaries. It defines the kinds of calls or requests that can be made, how to make them, the data formats that should be used, the conventions to follow, etc. It can also provide extension mechanisms so that users can extend existing functionality in various ways and to varying degrees.[1] An API can be entirely custom, specific to a component, or it can be designed based on an industry-standard to ensure interoperability. Through information hiding, APIs enable modular programming, which allows users to use the interface independently of the implementation. ([Wikipedia](https://en.wikipedia.org/wiki/API))\n",
    ">  \n",
    ">Loosely defined, API describes everything an application programmer needs to know about piece of code to know how to use it. ([wiki.python.org](https://wiki.python.org/moin/API#:~:text=API%20is%20a%20shortcut%20for,know%20how%20to%20use%20it.))"
   ]
  },
  {
   "cell_type": "markdown",
   "metadata": {
    "slideshow": {
     "slide_type": "subslide"
    }
   },
   "source": [
    "### Pandas example\n",
    "\n",
    "#### European Centre for Disease Prevention and Control (ECDC)\n",
    "\n",
    "- [European Centre for Disease Prevention and Control (ECDC) on weekly COVID19 testing in EU](https://www.ecdc.europa.eu/en/publications-data/covid-19-testing)\n",
    "- and [ECDC daily COVID19 numbers worldwide](https://www.ecdc.europa.eu/en/publications-data/download-todays-data-geographic-distribution-covid-19-cases-worldwide)"
   ]
  },
  {
   "cell_type": "code",
   "execution_count": null,
   "metadata": {
    "slideshow": {
     "slide_type": "fragment"
    }
   },
   "outputs": [],
   "source": [
    "import pandas as pd\n",
    "pd?"
   ]
  },
  {
   "cell_type": "markdown",
   "metadata": {
    "slideshow": {
     "slide_type": "subslide"
    }
   },
   "source": [
    "#### Daily Cases"
   ]
  },
  {
   "cell_type": "code",
   "execution_count": null,
   "metadata": {
    "slideshow": {
     "slide_type": "fragment"
    }
   },
   "outputs": [],
   "source": [
    "url_ecdc_daily_cases = \"https://opendata.ecdc.europa.eu/covid19/casedistribution/csv/data.csv\"\n",
    "\n",
    "ecdc_daily_cases = pd.read_csv(url_ecdc_daily_cases, parse_dates=True, infer_datetime_format=True)"
   ]
  },
  {
   "cell_type": "code",
   "execution_count": null,
   "metadata": {
    "slideshow": {
     "slide_type": "fragment"
    }
   },
   "outputs": [],
   "source": [
    "ecdc_daily_cases.head()"
   ]
  },
  {
   "cell_type": "code",
   "execution_count": null,
   "metadata": {
    "slideshow": {
     "slide_type": "fragment"
    }
   },
   "outputs": [],
   "source": [
    "ecdc_daily_cases.dateRep = pd.to_datetime(ecdc_daily_cases.dateRep)\n",
    "ecdc_daily_cases.set_index('dateRep').head() # not persistent"
   ]
  },
  {
   "cell_type": "markdown",
   "metadata": {
    "slideshow": {
     "slide_type": "subslide"
    }
   },
   "source": [
    "#### Weekly testing"
   ]
  },
  {
   "cell_type": "code",
   "execution_count": null,
   "metadata": {
    "slideshow": {
     "slide_type": "fragment"
    }
   },
   "outputs": [],
   "source": [
    "url_ecdc_weekly_testing = \"https://opendata.ecdc.europa.eu/covid19/testing/csv\"\n",
    "ecdc_weekly_testing = pd.read_csv(url_ecdc_weekly_testing)\n",
    "\n",
    "ecdc_weekly_testing.tail()"
   ]
  },
  {
   "cell_type": "code",
   "execution_count": null,
   "metadata": {
    "slideshow": {
     "slide_type": "fragment"
    }
   },
   "outputs": [],
   "source": [
    "mask = ecdc_weekly_testing.country == \"France\"\n",
    "ecdc_weekly_france = ecdc_weekly_testing.loc[mask]\n",
    "ecdc_weekly_france"
   ]
  },
  {
   "cell_type": "code",
   "execution_count": null,
   "metadata": {
    "slideshow": {
     "slide_type": "fragment"
    }
   },
   "outputs": [],
   "source": [
    "ecdc_weekly_uk = ecdc_weekly_testing.query(\"country == 'United Kingdom'\")\n",
    "ecdc_weekly_uk"
   ]
  },
  {
   "cell_type": "markdown",
   "metadata": {
    "slideshow": {
     "slide_type": "subslide"
    }
   },
   "source": [
    "#### Some plotting\n",
    "Check out the documentation of [`pandas.DataFrame.plot`](https://pandas.pydata.org/pandas-docs/stable/reference/api/pandas.DataFrame.plot.html). It uses `matplotlib` for plotting."
   ]
  },
  {
   "cell_type": "code",
   "execution_count": null,
   "metadata": {
    "slideshow": {
     "slide_type": "fragment"
    }
   },
   "outputs": [],
   "source": [
    "# will be method of a DataFrame instance\n",
    "# pd.DataFrame.plot?"
   ]
  },
  {
   "cell_type": "code",
   "execution_count": null,
   "metadata": {
    "slideshow": {
     "slide_type": "fragment"
    }
   },
   "outputs": [],
   "source": [
    "_ = ecdc_weekly_france.set_index(\"year_week\").plot(y='positivity_rate', rot=90)"
   ]
  },
  {
   "cell_type": "code",
   "execution_count": null,
   "metadata": {
    "slideshow": {
     "slide_type": "fragment"
    }
   },
   "outputs": [],
   "source": [
    "df = ecdc_weekly_testing.set_index([\"year_week\", \"country\"])\n",
    "df.loc[(slice(None),\"France\"),:]"
   ]
  },
  {
   "cell_type": "code",
   "execution_count": null,
   "metadata": {
    "slideshow": {
     "slide_type": "fragment"
    }
   },
   "outputs": [],
   "source": [
    "import matplotlib.pyplot as plt\n",
    "# fig, ax = plt.subplots(figsize=(15,15))\n",
    "ax = None\n",
    "_ = df[\"positivity_rate\"].unstack().plot(ax=ax, y=None, rot=90, xlabel='week')"
   ]
  },
  {
   "cell_type": "markdown",
   "metadata": {
    "slideshow": {
     "slide_type": "slide"
    }
   },
   "source": [
    "## Webprogramming"
   ]
  },
  {
   "cell_type": "markdown",
   "metadata": {
    "slideshow": {
     "slide_type": "subslide"
    }
   },
   "source": [
    "### Native websites\n",
    "- [Django](https://www.djangoproject.com/), used for [large websites](https://hackernoon.com/10-popular-websites-built-with-django-906cc310aa0a)"
   ]
  },
  {
   "cell_type": "markdown",
   "metadata": {
    "slideshow": {
     "slide_type": "subslide"
    }
   },
   "source": [
    "### Dashboards\n",
    "\n",
    "> mostly run locally, but can in principle be deployed\n",
    "\n",
    "- [dash](https://plotly.com/dash/)\n",
    "- [voila](https://github.com/voila-dashboards/voila)\n",
    "- [panel](https://panel.holoviz.org/)\n",
    " - [ipywidgets](https://ipywidgets.readthedocs.io/en/latest/)\n",
    "- [streamlit](https://www.streamlit.io/)"
   ]
  },
  {
   "cell_type": "markdown",
   "metadata": {
    "slideshow": {
     "slide_type": "slide"
    }
   },
   "source": [
    "## Integrated Development Environments\n",
    "\n",
    "IDEs are manifold\n",
    "- [VSCode](https://code.visualstudio.com/)\n",
    "- [spyder](https://www.spyder-ide.org/), try [here](https://mybinder.org/v2/gh/spyder-ide/spyder/4.x?urlpath=/desktop)\n",
    "- [jupyter lab](https://jupyter.org/)"
   ]
  },
  {
   "cell_type": "markdown",
   "metadata": {
    "slideshow": {
     "slide_type": "slide"
    }
   },
   "source": [
    "## Jupyter\n",
    "\n",
    "- python vs ipython\n",
    "- jupyter lab and notebook \n",
    "> This is a notebook\n",
    "\n",
    "**Skip the rest of the section for beginners, and explain colab in detail**"
   ]
  },
  {
   "cell_type": "markdown",
   "metadata": {
    "slideshow": {
     "slide_type": "subslide"
    }
   },
   "source": [
    "### Magic functions\n",
    "\n",
    "[magic functions](https://ipython.readthedocs.io/en/stable/interactive/magics.html), e.g. the [`%time`](https://ipython.readthedocs.io/en/stable/interactive/magics.html#magic-time) magic"
   ]
  },
  {
   "cell_type": "code",
   "execution_count": null,
   "metadata": {
    "slideshow": {
     "slide_type": "fragment"
    }
   },
   "outputs": [],
   "source": [
    "%%time\n",
    "b = list(range(100_000_000)) # IPython is used in Notebooks\n",
    "b[11314]"
   ]
  },
  {
   "cell_type": "markdown",
   "metadata": {
    "slideshow": {
     "slide_type": "fragment"
    }
   },
   "source": [
    "Don't do this, but use numpy if you should really have need for it."
   ]
  },
  {
   "cell_type": "code",
   "execution_count": null,
   "metadata": {
    "slideshow": {
     "slide_type": "fragment"
    }
   },
   "outputs": [],
   "source": [
    "import numpy as np"
   ]
  },
  {
   "cell_type": "code",
   "execution_count": null,
   "metadata": {
    "slideshow": {
     "slide_type": "fragment"
    }
   },
   "outputs": [],
   "source": [
    "%%time\n",
    "b = np.arange(100_000_000)\n",
    "b[11314]"
   ]
  },
  {
   "cell_type": "markdown",
   "metadata": {
    "slideshow": {
     "slide_type": "subslide"
    }
   },
   "source": [
    "### Utility functions\n",
    "\n",
    "There are many utility functions shipped with IPython"
   ]
  },
  {
   "cell_type": "code",
   "execution_count": null,
   "metadata": {
    "slideshow": {
     "slide_type": "fragment"
    }
   },
   "outputs": [],
   "source": [
    "from IPython.core.debugger import set_trace\n",
    "set_trace?"
   ]
  },
  {
   "cell_type": "code",
   "execution_count": null,
   "metadata": {
    "slideshow": {
     "slide_type": "fragment"
    }
   },
   "outputs": [],
   "source": [
    "# Don't use this. There are whole libraries to do that.\n",
    "def remove_suffix(name,suffix=' '):\n",
    "    _list = name.split(suffix)\n",
    "#     set_trace()\n",
    "    if len(_list) > 1:\n",
    "        return \"\".join(_list[:-1])\n",
    "    else:\n",
    "        return _list[0]\n",
    "\n",
    "name = \"my/long/name.ext\"\n",
    "remove_suffix(name, suffix='.ext')"
   ]
  },
  {
   "cell_type": "markdown",
   "metadata": {
    "slideshow": {
     "slide_type": "fragment"
    }
   },
   "source": [
    "Again, don't do this, but use `os` or `Pathlib` modules if you should really have need for it."
   ]
  },
  {
   "cell_type": "code",
   "execution_count": null,
   "metadata": {
    "slideshow": {
     "slide_type": "fragment"
    }
   },
   "outputs": [],
   "source": [
    "import os\n",
    "os.path.splitext(name)"
   ]
  },
  {
   "cell_type": "code",
   "execution_count": null,
   "metadata": {
    "slideshow": {
     "slide_type": "fragment"
    }
   },
   "outputs": [],
   "source": [
    "from pathlib import Path\n",
    "Path(name).with_suffix('')"
   ]
  },
  {
   "cell_type": "markdown",
   "metadata": {
    "slideshow": {
     "slide_type": "fragment"
    }
   },
   "source": [
    "How do you remember this? Do you? \n",
    "- [link](https://stackoverflow.com/a/3548689/9684872) to stackoverflow"
   ]
  },
  {
   "cell_type": "markdown",
   "metadata": {
    "slideshow": {
     "slide_type": "slide"
    }
   },
   "source": [
    "## Resources\n",
    "\n",
    "[learnpython.org](https://www.learnpython.org/)\n",
    "\n",
    "### For non-programmers\n",
    "\n",
    "- python.org [references](https://wiki.python.org/moin/BeginnersGuide/NonProgrammers)\n",
    "- Datacamp, Udemey, Coursera, codecademy, udacity, edx\n",
    "\n",
    "### For programmers (R, Java, C)\n",
    " - [official tutorial](https://docs.python.org/3/tutorial/)\n",
    " - [Fluent Python, 2021](https://www.oreilly.com/library/view/fluent-python-2nd/9781492056348/)\n",
    " - [introductions](https://wiki.python.org/moin/IntroductoryBooks)\n",
    " - [freecodecamp - intermediate](https://www.youtube.com/watch?v=HGOBQPFzWKo)\n",
    " - [Hitchhiker's Guide to Python](https://docs.python-guide.org/)"
   ]
  }
 ],
 "metadata": {
  "kernelspec": {
   "display_name": "Python 3",
   "language": "python",
   "name": "python3"
  },
  "language_info": {
   "codemirror_mode": {
    "name": "ipython",
    "version": 3
   },
   "file_extension": ".py",
   "mimetype": "text/x-python",
   "name": "python",
   "nbconvert_exporter": "python",
   "pygments_lexer": "ipython3",
   "version": "3.9.2"
  },
  "rise": {
   "scroll": true
  },
  "toc": {
   "base_numbering": 1,
   "nav_menu": {},
   "number_sections": true,
   "sideBar": true,
   "skip_h1_title": false,
   "title_cell": "Table of Contents",
   "title_sidebar": "Contents",
   "toc_cell": false,
   "toc_position": {},
   "toc_section_display": true,
   "toc_window_display": false
  },
  "toc-autonumbering": true
 },
 "nbformat": 4,
 "nbformat_minor": 4
}

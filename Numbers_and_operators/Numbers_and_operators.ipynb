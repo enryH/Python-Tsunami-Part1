{
 "cells": [
  {
   "cell_type": "markdown",
   "metadata": {},
   "source": [
    "<img src=\"../figures/HeaDS_logo_large_withTitle.png\" width=\"300\">\n",
    "\n",
    "<img src=\"../figures/tsunami_logo.PNG\" width=\"600\">\n",
    "\n",
    "[![Open In Colab](https://colab.research.google.com/assets/colab-badge.svg)](https://colab.research.google.com/github/Center-for-Health-Data-Science/PythonTsunami/blob/intro/Numbers_and_operators/Numbers_and_operators.ipynb)"
   ]
  },
  {
   "cell_type": "markdown",
   "metadata": {
    "colab_type": "text",
    "id": "GA6eVAZ8vDmf",
    "slideshow": {
     "slide_type": "slide"
    }
   },
   "source": [
    "# Numerical Operators\n",
    "\n",
    "*Prepared by [Katarina Nastou](https://www.cpr.ku.dk/staff/?pure=en/persons/672471)*"
   ]
  },
  {
   "cell_type": "markdown",
   "metadata": {
    "colab_type": "text",
    "id": "GptYMRpSuasN",
    "slideshow": {
     "slide_type": "subslide"
    }
   },
   "source": [
    "## Objectives\n",
    "- understand differences between `int`s and `float`s\n",
    "- work with simple math operators\n",
    "- add comments to your code"
   ]
  },
  {
   "cell_type": "markdown",
   "metadata": {
    "colab_type": "text",
    "id": "dIx5dioRuasS",
    "slideshow": {
     "slide_type": "slide"
    }
   },
   "source": [
    "## Numbers\n",
    "Two main types of numbers:\n",
    "- Integers: `56, 3, -90`\n",
    "- Floating Points: `5.666, 0.0, -8.9`"
   ]
  },
  {
   "cell_type": "code",
   "execution_count": null,
   "metadata": {
    "slideshow": {
     "slide_type": "fragment"
    }
   },
   "outputs": [],
   "source": []
  },
  {
   "cell_type": "markdown",
   "metadata": {
    "colab_type": "text",
    "id": "OgojobH6uasW",
    "slideshow": {
     "slide_type": "slide"
    }
   },
   "source": [
    "## Operators \n",
    "- addition: `+`\n",
    "- subtraction: `-`\n",
    "- multiplication: `*`\n",
    "- division: `/`\n",
    "- exponentiation, power: `**`\n",
    "- modulo: `%`\n",
    "- integer division: `//`  (what does it return?)"
   ]
  },
  {
   "cell_type": "code",
   "execution_count": null,
   "metadata": {
    "slideshow": {
     "slide_type": "fragment"
    }
   },
   "outputs": [],
   "source": [
    "# playground"
   ]
  },
  {
   "cell_type": "markdown",
   "metadata": {
    "colab_type": "text",
    "id": "V3PQMg3GuasY",
    "slideshow": {
     "slide_type": "subslide"
    }
   },
   "source": [
    "### Qestions: Ints and Floats\n",
    "- Question 1: Which of the following numbers is NOT a float? \n",
    "        (a) 0 \n",
    "        (b) 2.3 \n",
    "        (c) 23.0 \n",
    "        (d) -23.0 \n",
    "        (e) 0.0"
   ]
  },
  {
   "cell_type": "code",
   "execution_count": null,
   "metadata": {
    "slideshow": {
     "slide_type": "fragment"
    }
   },
   "outputs": [],
   "source": []
  },
  {
   "cell_type": "markdown",
   "metadata": {
    "colab_type": "text",
    "id": "V3PQMg3GuasY",
    "slideshow": {
     "slide_type": "subslide"
    }
   },
   "source": [
    "- Question 2: What type does the following expression result in? \n",
    "\n",
    "```python\n",
    "3.0 + 5\n",
    "```"
   ]
  },
  {
   "cell_type": "code",
   "execution_count": null,
   "metadata": {
    "slideshow": {
     "slide_type": "fragment"
    }
   },
   "outputs": [],
   "source": []
  },
  {
   "cell_type": "markdown",
   "metadata": {
    "colab_type": "text",
    "id": "GlG2t-H-uasb",
    "slideshow": {
     "slide_type": "subslide"
    }
   },
   "source": [
    "### Operators 1\n",
    "- Question 3: How can we add parenthesis to the following expression to make it equal 100? \n",
    "```python\n",
    "1 + 9 * 10\n",
    "```\n",
    "       \n",
    "- Question 4: What is the result of the following expression?\n",
    "```python\n",
    "3 + 14 * 2 + 4 * 5\n",
    "```\n",
    "- Question 5: What is the result of the following expression\n",
    "```python\n",
    "5 * 9 / 4 ** 3 - 6 * 7\n",
    "```"
   ]
  },
  {
   "cell_type": "code",
   "execution_count": null,
   "metadata": {
    "slideshow": {
     "slide_type": "fragment"
    }
   },
   "outputs": [],
   "source": [
    " "
   ]
  },
  {
   "cell_type": "markdown",
   "metadata": {
    "colab_type": "text",
    "id": "1wU8A2FFuasg",
    "slideshow": {
     "slide_type": "subslide"
    }
   },
   "source": [
    "### Comments\n",
    "- Question 6: What is the result of running this code? \n",
    "\n",
    "```python\n",
    "15 / 3 * 2 # + 1 \n",
    "```"
   ]
  },
  {
   "cell_type": "code",
   "execution_count": null,
   "metadata": {
    "slideshow": {
     "slide_type": "fragment"
    }
   },
   "outputs": [],
   "source": [
    " "
   ]
  },
  {
   "cell_type": "markdown",
   "metadata": {
    "colab_type": "text",
    "id": "RHUiqAaYuash",
    "slideshow": {
     "slide_type": "subslide"
    }
   },
   "source": [
    "### Questions: Operators 2 \n",
    "\n",
    "- Question 7: Which of the following result in integers in Python? \n",
    "        (a) 8 / 2\n",
    "        (b) 3 // 2 \n",
    "        (c) 4.5 * 2"
   ]
  },
  {
   "cell_type": "code",
   "execution_count": null,
   "metadata": {
    "slideshow": {
     "slide_type": "fragment"
    }
   },
   "outputs": [],
   "source": []
  },
  {
   "cell_type": "markdown",
   "metadata": {
    "colab_type": "text",
    "id": "RHUiqAaYuash",
    "slideshow": {
     "slide_type": "subslide"
    }
   },
   "source": [
    "- Question 8: What is the result of `18 // 3` ?"
   ]
  },
  {
   "cell_type": "code",
   "execution_count": null,
   "metadata": {
    "slideshow": {
     "slide_type": "fragment"
    }
   },
   "outputs": [],
   "source": []
  },
  {
   "cell_type": "markdown",
   "metadata": {
    "colab_type": "text",
    "id": "RHUiqAaYuash",
    "slideshow": {
     "slide_type": "subslide"
    }
   },
   "source": [
    "- Question 9: What is the result of `121 % 7` ?"
   ]
  },
  {
   "cell_type": "code",
   "execution_count": null,
   "metadata": {
    "slideshow": {
     "slide_type": "fragment"
    }
   },
   "outputs": [],
   "source": []
  },
  {
   "cell_type": "markdown",
   "metadata": {},
   "source": [
    "## Exercise\n",
    "\n",
    "Ask the user for a number using the function [input()](https://www.askpython.com/python/examples/python-user-input) and then multiply that number by 2 and print out the value. Remember to store the input value into a variable, so that you can use it afterwards in the multiplication."
   ]
  },
  {
   "cell_type": "code",
   "execution_count": null,
   "metadata": {},
   "outputs": [],
   "source": []
  },
  {
   "cell_type": "markdown",
   "metadata": {},
   "source": [
    "Modfify your previous calculator and ask for the second number (instead of x * 2 --> x * y)."
   ]
  },
  {
   "cell_type": "markdown",
   "metadata": {},
   "source": [
    "Now get the square of the number that the user inputs"
   ]
  },
  {
   "cell_type": "code",
   "execution_count": null,
   "metadata": {},
   "outputs": [],
   "source": []
  },
  {
   "cell_type": "markdown",
   "metadata": {},
   "source": [
    "### Note\n",
    "\n",
    "Check out also the [math library](https://docs.python.org/3/library/math.html) in Python. You can use this library for more complex operations with numbers. Just import the library and try it out:\n",
    "\n",
    "```python\n",
    "\n",
    "import math\n",
    "\n",
    "print(math.sqrt(25))\n",
    "\n",
    "print(math.log10(10))\n",
    "```"
   ]
  },
  {
   "cell_type": "code",
   "execution_count": null,
   "metadata": {},
   "outputs": [],
   "source": []
  }
 ],
 "metadata": {
  "colab": {
   "collapsed_sections": [],
   "name": "numbers_operators_comments.ipynb",
   "provenance": [],
   "toc_visible": true
  },
  "kernelspec": {
   "display_name": "Python 3",
   "language": "python",
   "name": "python3"
  },
  "language_info": {
   "codemirror_mode": {
    "name": "ipython",
    "version": 3
   },
   "file_extension": ".py",
   "mimetype": "text/x-python",
   "name": "python",
   "nbconvert_exporter": "python",
   "pygments_lexer": "ipython3",
   "version": "3.9.2"
  },
  "rise": {
   "scroll": true
  },
  "toc": {
   "base_numbering": 1,
   "nav_menu": {},
   "number_sections": true,
   "sideBar": true,
   "skip_h1_title": false,
   "title_cell": "Table of Contents",
   "title_sidebar": "Contents",
   "toc_cell": false,
   "toc_position": {},
   "toc_section_display": true,
   "toc_window_display": false
  }
 },
 "nbformat": 4,
 "nbformat_minor": 4
}

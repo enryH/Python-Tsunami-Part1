{
 "cells": [
  {
   "cell_type": "markdown",
   "metadata": {},
   "source": [
    "<img src=\"../figures/HeaDS_logo_large_withTitle.png\" width=\"300\">\n",
    "\n",
    "<img src=\"../figures/tsunami_logo.PNG\" width=\"600\">\n",
    "\n",
    "[![Open In Colab](https://colab.research.google.com/assets/colab-badge.svg)](https://colab.research.google.com/github/Center-for-Health-Data-Science/PythonTsunami/blob/intro/Conditionals/Conditions.ipynb)"
   ]
  },
  {
   "cell_type": "markdown",
   "metadata": {
    "colab_type": "text",
    "id": "sx2_ytTonyCz",
    "slideshow": {
     "slide_type": "slide"
    }
   },
   "source": [
    "# Boolean and Conditional logic\n",
    "\n",
    "*prepared by [Katarina Nastou](https://www.cpr.ku.dk/staff/?pure=en/persons/672471) and [Rita Colaço](https://www.cpr.ku.dk/staff/?id=621366&vis=medarbejder)*"
   ]
  },
  {
   "cell_type": "markdown",
   "metadata": {
    "colab_type": "text",
    "id": "f0z_VyIZfL_2",
    "slideshow": {
     "slide_type": "subslide"
    }
   },
   "source": [
    "## Objectives\n",
    "\n",
    "- Understand boolean operators and how variables can relate\n",
    "- Learn about \"Truthiness\"\n",
    "- Learn how to write conditional statements and use proper indentation\n",
    "- Learn how to use comparison operators to make a basic programs\n",
    "\n"
   ]
  },
  {
   "cell_type": "markdown",
   "metadata": {
    "colab_type": "text",
    "id": "OMcp2kWqi8ik",
    "slideshow": {
     "slide_type": "slide"
    }
   },
   "source": [
    "## User Input\n",
    "There is a built-in function in Python called \"input\" that will prompt the user and store the result to a variable.\n"
   ]
  },
  {
   "cell_type": "code",
   "execution_count": null,
   "metadata": {
    "colab": {
     "base_uri": "https://localhost:8080/",
     "height": 34
    },
    "colab_type": "code",
    "executionInfo": {
     "elapsed": 3474,
     "status": "ok",
     "timestamp": 1583694636703,
     "user": {
      "displayName": "Catherine Nst",
      "photoUrl": "",
      "userId": "00118750132604534762"
     },
     "user_tz": -60
    },
    "id": "90A_eVFDjZSO",
    "outputId": "2ca19a1e-f379-443d-9f97-3864784d83ad",
    "slideshow": {
     "slide_type": "subslide"
    }
   },
   "outputs": [],
   "source": [
    "name = input(\"Enter your name here: \")"
   ]
  },
  {
   "cell_type": "code",
   "execution_count": null,
   "metadata": {
    "colab": {
     "base_uri": "https://localhost:8080/",
     "height": 34
    },
    "colab_type": "code",
    "executionInfo": {
     "elapsed": 559,
     "status": "ok",
     "timestamp": 1583694638578,
     "user": {
      "displayName": "Catherine Nst",
      "photoUrl": "",
      "userId": "00118750132604534762"
     },
     "user_tz": -60
    },
    "id": "uFvOHE4QjhG_",
    "outputId": "258f0866-22a4-489b-d256-c5f7fa545b0e",
    "slideshow": {
     "slide_type": "fragment"
    }
   },
   "outputs": [],
   "source": [
    "print(name)"
   ]
  },
  {
   "cell_type": "markdown",
   "metadata": {},
   "source": [
    "## Booleans"
   ]
  },
  {
   "cell_type": "code",
   "execution_count": null,
   "metadata": {},
   "outputs": [],
   "source": [
    "x = True\n",
    "print(x)"
   ]
  },
  {
   "cell_type": "code",
   "execution_count": null,
   "metadata": {},
   "outputs": [],
   "source": [
    "print(type(x))"
   ]
  },
  {
   "cell_type": "markdown",
   "metadata": {
    "colab_type": "text",
    "id": "0QVDXNorlaY4",
    "slideshow": {
     "slide_type": "slide"
    }
   },
   "source": [
    "## Comparison Operators"
   ]
  },
  {
   "cell_type": "markdown",
   "metadata": {
    "colab_type": "text",
    "id": "YZnI0AZGlc5N",
    "slideshow": {
     "slide_type": "fragment"
    }
   },
   "source": [
    "Comparison operators can tell how two Python values relate, resulting in a boolean. They answer yes/no questions.\n",
    "\n",
    "In the example `a = 2` and `b = 2`, i.e. we are comparing integers (`int`)\n",
    "\n",
    "\n",
    "operator | Description | Result | Example (`a, b = 2, 2`)\n",
    "---      | ---         |--- | ---\n",
    "`==`  | **a** equal to **b** | True if **a** has the same value as **b**  | `a == b  # True`\n",
    "`!=`  |\t**a** not equal to **b** | True if **a** does NOT have the same value as **b** | `a != b  # False`\n",
    "`>`   | **a** greater than **b** | True if **a** is greater than **b**  |  `a > b  # False`\n",
    "`<`   | **a** less than **b** | True if **a** is less than be **b**  | `a < b # False`\n",
    "`>=`  | **a** greater than or equal to **b** | True if **a** is greater than or equal to **b**   |  `a >= b  # True`\n",
    "`<=`  | **a** less than or equal to **b** | True if **a** is less than or equal to **b** | `a <= b  # True`\n",
    "\n",
    "> Hint: The result of a comparison is defined by the type of **a** and **b**, and the **operator** used"
   ]
  },
  {
   "cell_type": "markdown",
   "metadata": {},
   "source": [
    "### Numeric comparisons"
   ]
  },
  {
   "cell_type": "code",
   "execution_count": null,
   "metadata": {
    "slideshow": {
     "slide_type": "fragment"
    }
   },
   "outputs": [],
   "source": [
    "a, b = 2, 2\n",
    "a >= b"
   ]
  },
  {
   "cell_type": "markdown",
   "metadata": {},
   "source": [
    "### String comparisons"
   ]
  },
  {
   "cell_type": "code",
   "execution_count": null,
   "metadata": {},
   "outputs": [],
   "source": [
    "\"carl\" < \"chris\""
   ]
  },
  {
   "cell_type": "markdown",
   "metadata": {},
   "source": [
    "### Quiz\n",
    "\n",
    "**Question 1**: What will be the result of this comparison?\n",
    "\n",
    "```python\n",
    "    x = 2\n",
    "    y = \"Anthony\"\n",
    "    x < y\n",
    "```\n",
    "\n",
    "1. True\n",
    "2. False\n",
    "3. Error"
   ]
  },
  {
   "cell_type": "markdown",
   "metadata": {},
   "source": [
    "**Question 2**: What about this comparison?\n",
    "\n",
    "```python\n",
    "    x = 12.99\n",
    "    y = 12\n",
    "    x >= y\n",
    "```\n",
    "\n",
    "1. True\n",
    "2. False\n",
    "3. Error"
   ]
  },
  {
   "cell_type": "markdown",
   "metadata": {},
   "source": [
    "**Question 3**: And this comparison?\n",
    "\n",
    "```python\n",
    "    x = 5\n",
    "    y = \"Hanna\"\n",
    "    x == y\n",
    "```\n",
    "\n",
    "1. True\n",
    "2. False\n",
    "3. Error"
   ]
  },
  {
   "cell_type": "markdown",
   "metadata": {
    "colab_type": "text",
    "id": "IBHh_cJzlMLr",
    "slideshow": {
     "slide_type": "slide"
    }
   },
   "source": [
    "## Truthiness"
   ]
  },
  {
   "cell_type": "markdown",
   "metadata": {
    "colab_type": "text",
    "id": "hu3pjkY_lP5n",
    "slideshow": {
     "slide_type": "fragment"
    }
   },
   "source": [
    "In Python, all conditional checks resolve to `True` or `False`.\n",
    "\n",
    "```python\n",
    "x = 1\n",
    "x == 1  # True\n",
    "x == 0  # False\n",
    "```\n",
    "\n",
    "Besides false conditional checks, other things that are naturally \"falsy\" include: empty objects, empty strings, None, and zero (and non-empty things are normally `True`).\n",
    "\n",
    "\n",
    "> \"Although Python has a bool type, it accepts any object in a boolean context, such as the\n",
    "> expression controlling an **if** or **while** statement, or as operands to **and**, **or**, and **not**. \n",
    "> To determine whether a value **x** is _truthy_ or _falsy_, Python applies `bool(x)`, which always returns True or False.  \n",
    "> \n",
    "> (...) Basically, `bool(x)` calls `x.__bool__()` and uses the result. \n",
    "> If `__bool__` is not implemented, Python tries to invoke `x.__len__()`, and if that returns zero, bool returns `False`. \n",
    "> Otherwise bool returns `True`.\" (Ramalho 2016: Fluent Python, p. 12)\n"
   ]
  },
  {
   "cell_type": "code",
   "execution_count": null,
   "metadata": {},
   "outputs": [],
   "source": [
    "a = []\n",
    "bool(a)"
   ]
  },
  {
   "cell_type": "code",
   "execution_count": null,
   "metadata": {},
   "outputs": [],
   "source": [
    "a = ''\n",
    "bool(a)"
   ]
  },
  {
   "cell_type": "code",
   "execution_count": null,
   "metadata": {},
   "outputs": [],
   "source": [
    "a = None\n",
    "bool(a)"
   ]
  },
  {
   "cell_type": "code",
   "execution_count": null,
   "metadata": {},
   "outputs": [],
   "source": [
    "a = 0\n",
    "b = 1\n",
    "\n",
    "print(bool(a))\n",
    "print(bool(b))"
   ]
  },
  {
   "cell_type": "markdown",
   "metadata": {
    "colab_type": "text",
    "id": "ntvM86pmmVNf",
    "slideshow": {
     "slide_type": "slide"
    }
   },
   "source": [
    "## Logical Operators or \"How to combine boolean values\""
   ]
  },
  {
   "cell_type": "markdown",
   "metadata": {
    "colab_type": "text",
    "id": "HIOcNmRdmXkY",
    "slideshow": {
     "slide_type": "subslide"
    }
   },
   "source": [
    "In Python, the following operators can be used to make Boolean Logic comparisons. The three most common ones are `and`, `or` and `not`."
   ]
  },
  {
   "cell_type": "markdown",
   "metadata": {
    "colab_type": "text",
    "id": "HIOcNmRdmXkY",
    "slideshow": {
     "slide_type": "subslide"
    }
   },
   "source": [
    "`and`, True if both **a** AND **b** are true (logical conjunction)\n",
    "\n",
    "```python\n",
    "cats_are_cute = True\n",
    "dogs_are_cute = True\n",
    "\n",
    "cats_are_cute and dogs_are_cute # True\n",
    "```\n",
    "\n",
    "> But `True and False`, `False and True` and `False and False` all evaluate to `False`."
   ]
  },
  {
   "cell_type": "code",
   "execution_count": null,
   "metadata": {},
   "outputs": [],
   "source": [
    "x = 134\n",
    "x > 49 and x < 155"
   ]
  },
  {
   "cell_type": "markdown",
   "metadata": {
    "colab_type": "text",
    "id": "HIOcNmRdmXkY",
    "slideshow": {
     "slide_type": "fragment"
    }
   },
   "source": [
    "`or`, True if either **a** OR **b** are true (logical disjunction) \n",
    "```python\n",
    "am_tired = True\n",
    "is_bedtime = False\n",
    "\n",
    "am_tired or is_bedtime # True\n",
    "```\n",
    "\n",
    "> `True or True`, `False or True` and `True or False` evaluate to `True`.\n",
    "\n",
    "> Only `False or False` results in `False`."
   ]
  },
  {
   "cell_type": "code",
   "execution_count": null,
   "metadata": {},
   "outputs": [],
   "source": [
    "x = 5\n",
    "x < 7 or x > 11"
   ]
  },
  {
   "cell_type": "markdown",
   "metadata": {
    "colab_type": "text",
    "id": "HIOcNmRdmXkY",
    "slideshow": {
     "slide_type": "fragment"
    }
   },
   "source": [
    "`not`, True if the opposite of **a** is true (logical negation)\n",
    "```python\n",
    "is_weekend = True\n",
    "\n",
    "not is_weekend # False\n",
    "```\n",
    "\n",
    "> `not True` -> False\n",
    "\n",
    "> `not False` -> True"
   ]
  },
  {
   "cell_type": "markdown",
   "metadata": {},
   "source": [
    "### Order of precedence"
   ]
  },
  {
   "cell_type": "markdown",
   "metadata": {},
   "source": [
    "Can you guess the result of this expression?\n",
    "\n",
    "```python\n",
    "True or True and False\n",
    "```\n",
    "\n",
    "1. True\n",
    "2. False\n",
    "3. Error"
   ]
  },
  {
   "cell_type": "code",
   "execution_count": null,
   "metadata": {
    "scrolled": false
   },
   "outputs": [],
   "source": [
    "# True or True and False"
   ]
  },
  {
   "cell_type": "markdown",
   "metadata": {},
   "source": [
    "Instead of memorizing the [order of precedence](https://docs.python.org/3/reference/expressions.html#operator-precedence), we can use parentheses to define the order in which operations are performed.\n",
    "\n",
    "- Helps prevent bugs\n",
    "- Makes your intentions clearer to whomever reads your code"
   ]
  },
  {
   "cell_type": "code",
   "execution_count": null,
   "metadata": {},
   "outputs": [],
   "source": [
    "# (True or True) and False"
   ]
  },
  {
   "cell_type": "markdown",
   "metadata": {
    "colab_type": "text",
    "id": "fJyWAxAkm6un",
    "slideshow": {
     "slide_type": "subslide"
    }
   },
   "source": [
    "### `is` vs `==`"
   ]
  },
  {
   "cell_type": "markdown",
   "metadata": {
    "colab_type": "text",
    "id": "nSGr7Ozjm9WO",
    "slideshow": {
     "slide_type": "fragment"
    }
   },
   "source": [
    "In python, `==` and `is` are very similar operators, however they are NOT the same.\n",
    "\n",
    "`==` compares **equality**, while `is` compares by checking for the **identity**."
   ]
  },
  {
   "cell_type": "markdown",
   "metadata": {},
   "source": [
    "Example 1:"
   ]
  },
  {
   "cell_type": "code",
   "execution_count": null,
   "metadata": {
    "colab_type": "text",
    "id": "nSGr7Ozjm9WO",
    "slideshow": {
     "slide_type": "fragment"
    }
   },
   "outputs": [],
   "source": [
    "a = 1\n",
    "print(a == 1)\n",
    "print(a is 1)"
   ]
  },
  {
   "cell_type": "markdown",
   "metadata": {},
   "source": [
    "Example 2:"
   ]
  },
  {
   "cell_type": "code",
   "execution_count": null,
   "metadata": {
    "colab_type": "text",
    "id": "nSGr7Ozjm9WO",
    "slideshow": {
     "slide_type": "fragment"
    }
   },
   "outputs": [],
   "source": [
    "a = [1, 2, 3]\n",
    "b = [1, 2, 3]\n",
    "print(a == b)\n",
    "print(a is b)"
   ]
  },
  {
   "cell_type": "markdown",
   "metadata": {},
   "source": [
    "Example 3:"
   ]
  },
  {
   "cell_type": "code",
   "execution_count": null,
   "metadata": {
    "colab_type": "text",
    "id": "nSGr7Ozjm9WO",
    "slideshow": {
     "slide_type": "fragment"
    }
   },
   "outputs": [],
   "source": [
    "c = b\n",
    "print(b is c)"
   ]
  },
  {
   "cell_type": "markdown",
   "metadata": {},
   "source": [
    "Example 4:"
   ]
  },
  {
   "cell_type": "code",
   "execution_count": null,
   "metadata": {
    "slideshow": {
     "slide_type": "fragment"
    }
   },
   "outputs": [],
   "source": [
    "d = list(b)\n",
    "print(d is b)"
   ]
  },
  {
   "cell_type": "markdown",
   "metadata": {
    "colab_type": "text",
    "id": "xQVMaPxYnOkf",
    "slideshow": {
     "slide_type": "fragment"
    }
   },
   "source": [
    "**`is`** comparisons only return `True` if the variables reference the same item *in memory*. It is recommendend to [test Singletons with `is`](https://www.python.org/dev/peps/pep-0008/#programming-recommendations) and not `==`, e.g. `None`, `True`, `False`.\n"
   ]
  },
  {
   "cell_type": "markdown",
   "metadata": {
    "colab_type": "text",
    "id": "gwg0M-dcqSad",
    "slideshow": {
     "slide_type": "slide"
    }
   },
   "source": [
    "## Quiz\n",
    "\n",
    "**Question 1**: What is truthiness?\n",
    "\n",
    "1. Statements or facts that seem \"kind of true\" even if they aren't true necessarily\n",
    "2. Statements or expressions that result to a True value\n",
    "3. Code that never lies\n",
    "4. Computers have the tendency to believe things are True until proven False"
   ]
  },
  {
   "cell_type": "markdown",
   "metadata": {
    "colab_type": "text",
    "id": "gwg0M-dcqSad",
    "slideshow": {
     "slide_type": "fragment"
    }
   },
   "source": [
    "**Question 2**: Is the following expression True or False?\n",
    "\n",
    "```python\n",
    "    x = 15\n",
    "    y = 0\n",
    "    bool(x or y)  # this expression\n",
    "```"
   ]
  },
  {
   "cell_type": "code",
   "execution_count": null,
   "metadata": {
    "slideshow": {
     "slide_type": "fragment"
    }
   },
   "outputs": [],
   "source": []
  },
  {
   "cell_type": "markdown",
   "metadata": {
    "colab_type": "text",
    "id": "gwg0M-dcqSad",
    "slideshow": {
     "slide_type": "subslide"
    }
   },
   "source": [
    "**Question 3**: Is the following expression True or False?\n",
    "\n",
    "```python\n",
    "    x = 0\n",
    "    y = None\n",
    "    bool(x or y)  # this expression\n",
    "```"
   ]
  },
  {
   "cell_type": "code",
   "execution_count": null,
   "metadata": {
    "slideshow": {
     "slide_type": "fragment"
    }
   },
   "outputs": [],
   "source": []
  },
  {
   "cell_type": "markdown",
   "metadata": {
    "colab_type": "text",
    "id": "gwg0M-dcqSad",
    "slideshow": {
     "slide_type": "subslide"
    }
   },
   "source": [
    "**Question 4**: Is the following expression True or False? Choose an option.\n",
    "\n",
    "```python\n",
    "    x = 0\n",
    "    y = 1000\n",
    "    bool(x and y)  # this expression\n",
    "```\n",
    "\n",
    "1. True, because y has a True value, therefore x and y must be true\n",
    "2. False, because x is 0 which is \"falsy\""
   ]
  },
  {
   "cell_type": "code",
   "execution_count": null,
   "metadata": {
    "slideshow": {
     "slide_type": "fragment"
    }
   },
   "outputs": [],
   "source": []
  },
  {
   "cell_type": "markdown",
   "metadata": {
    "colab_type": "text",
    "id": "gwg0M-dcqSad",
    "slideshow": {
     "slide_type": "subslide"
    }
   },
   "source": [
    "**Question 5**: (Hard) Is the following expression True or False?\n",
    "\n",
    "```python\n",
    "    a = -1\n",
    "    not a  # this expression\n",
    "```"
   ]
  },
  {
   "cell_type": "code",
   "execution_count": null,
   "metadata": {},
   "outputs": [],
   "source": []
  },
  {
   "cell_type": "markdown",
   "metadata": {},
   "source": [
    "**Question 6**: (Hard) What is the result of the following expression?\n",
    "\n",
    "```python\n",
    "    x = 233\n",
    "    y = 0\n",
    "    z = None\n",
    "    x or y or z  # this expression\n",
    "```"
   ]
  },
  {
   "cell_type": "code",
   "execution_count": null,
   "metadata": {
    "slideshow": {
     "slide_type": "fragment"
    }
   },
   "outputs": [],
   "source": []
  },
  {
   "cell_type": "markdown",
   "metadata": {
    "colab_type": "text",
    "id": "gwg0M-dcqSad",
    "slideshow": {
     "slide_type": "subslide"
    }
   },
   "source": [
    "**Question 7**: Hardest question! Add parentheses to the expression, so that it shows the order of precedence explicitely?\n",
    "\n",
    "```python\n",
    "    x = 0\n",
    "    y = -1\n",
    "    x or y and x - 1 == y and y + 1 == x\n",
    "```\n",
    "> Tip: check the [order of precedence](https://docs.python.org/3/reference/expressions.html#operator-precedence)."
   ]
  },
  {
   "cell_type": "code",
   "execution_count": null,
   "metadata": {
    "slideshow": {
     "slide_type": "fragment"
    }
   },
   "outputs": [],
   "source": []
  },
  {
   "cell_type": "markdown",
   "metadata": {
    "colab_type": "text",
    "id": "kKTTEKx1jv6h",
    "slideshow": {
     "slide_type": "fragment"
    }
   },
   "source": [
    "## Conditional Statements"
   ]
  },
  {
   "cell_type": "markdown",
   "metadata": {
    "colab_type": "text",
    "id": "g7oUjlMDj1Bh",
    "slideshow": {
     "slide_type": "fragment"
    }
   },
   "source": [
    "[Conditional statements](https://docs.python.org/3/tutorial/controlflow.html#if-statements), use the keywords `if`, `elif` and `else`, and they let you control what pieces of code are run based on the value of some Boolean condition.\n",
    "\n",
    "```python\n",
    "if some condition is True:\n",
    "    do something\n",
    "elif some other condition is True:\n",
    "    do something\n",
    "else:\n",
    "    do something\n",
    "```\n",
    "\n",
    "> Recipe: if condition, execute expression\n",
    "\n",
    "> If condition always finishes with `:` (colon)\n",
    "\n",
    "> Expression to be executed if condition succeeds always needs to be indented (spaces or tab, depending on the editor you are using)"
   ]
  },
  {
   "cell_type": "code",
   "execution_count": null,
   "metadata": {},
   "outputs": [],
   "source": [
    "cats_are_cute = True\n",
    "dogs_are_cute = True\n",
    "\n",
    "if cats_are_cute and dogs_are_cute:\n",
    "    print(\"Pets are cute!\")"
   ]
  },
  {
   "cell_type": "markdown",
   "metadata": {},
   "source": [
    "> Here the `if` statement automatically calls `bool` on the expression, e.g. `bool(cats_are_cute and dogs_are_cute)`."
   ]
  },
  {
   "cell_type": "code",
   "execution_count": null,
   "metadata": {},
   "outputs": [],
   "source": [
    "is_weekend = False\n",
    "\n",
    "if not is_weekend:\n",
    "    print(\"Go to work.\")"
   ]
  },
  {
   "cell_type": "markdown",
   "metadata": {},
   "source": [
    "Adding the `else` statement:"
   ]
  },
  {
   "cell_type": "code",
   "execution_count": null,
   "metadata": {},
   "outputs": [],
   "source": [
    "is_weekend = True\n",
    "\n",
    "if not is_weekend:\n",
    "    print(\"It's Monday.\")\n",
    "    print(\"Go to work.\")\n",
    "else:\n",
    "    print(\"Sleep in and enjoy the beach.\")\n",
    "    "
   ]
  },
  {
   "cell_type": "markdown",
   "metadata": {},
   "source": [
    "For more customized behavior, use `elif`:"
   ]
  },
  {
   "cell_type": "code",
   "execution_count": null,
   "metadata": {},
   "outputs": [],
   "source": [
    "am_tired = True\n",
    "is_bedtime = True\n",
    "\n",
    "if not am_tired:\n",
    "    print(\"One more episode.\")  \n",
    "elif am_tired and is_bedtime:\n",
    "    print(\"Go to sleep.\")\n",
    "else:\n",
    "    print(\"Go to sleep anyways.\")\n"
   ]
  },
  {
   "cell_type": "markdown",
   "metadata": {
    "colab_type": "text",
    "id": "MBH1G8cJkHyg",
    "slideshow": {
     "slide_type": "fragment"
    }
   },
   "source": [
    "### Quiz:\n",
    "**Question 1**: If you set the name variable to \"Gandalf\" and run the script below, what will be the output?"
   ]
  },
  {
   "cell_type": "code",
   "execution_count": null,
   "metadata": {
    "colab": {},
    "colab_type": "code",
    "id": "lNBhkHV5kB29",
    "slideshow": {
     "slide_type": "fragment"
    }
   },
   "outputs": [],
   "source": [
    "name = input(\"Enter your name here: \")\n",
    "if name == \"Gandalf\":\n",
    "    print(\"Run, you fools!\")\n",
    "elif name == \"Aragorn\":\n",
    "    print(\"There is always hope.\")\n",
    "else:\n",
    "    print(\"Move on then!\")"
   ]
  },
  {
   "cell_type": "markdown",
   "metadata": {},
   "source": [
    "**Question 2**: Why do we use `==` and not `is` in the code above?"
   ]
  },
  {
   "cell_type": "code",
   "execution_count": null,
   "metadata": {},
   "outputs": [],
   "source": []
  },
  {
   "cell_type": "markdown",
   "metadata": {},
   "source": [
    "## Breakout rooms"
   ]
  },
  {
   "cell_type": "markdown",
   "metadata": {
    "colab_type": "text",
    "id": "SKnzmfmgooc6",
    "slideshow": {
     "slide_type": "subslide"
    }
   },
   "source": [
    "### Exercise 1\n",
    "At the next code block there is some code that randomly picks a number from 1 to 10. \n",
    "Write a conditional statement to check if `choice` is 5 and print `\"Five it is!\"` and in any other case print `\"Well that's not a 5!\"`."
   ]
  },
  {
   "cell_type": "code",
   "execution_count": null,
   "metadata": {
    "colab": {},
    "colab_type": "code",
    "id": "Mb_BZVxPooBS",
    "slideshow": {
     "slide_type": "fragment"
    }
   },
   "outputs": [],
   "source": [
    "from random import randint\n",
    "choice = randint(1,10)\n",
    "\n",
    "# YOUR CODE GOES HERE vvvvvv\n"
   ]
  },
  {
   "cell_type": "markdown",
   "metadata": {
    "colab_type": "text",
    "id": "kioEJrhzpZnM",
    "slideshow": {
     "slide_type": "subslide"
    }
   },
   "source": [
    "### Exercise 2\n",
    "At the next code block there is some code that randomly picks a number from 1 to 1000. Use a conditional statement to check if the number is odd and print `\"odd\"`, otherwise print `\"even\"`.\n",
    "\n",
    "> *Hint*: Remember the numerical operators we saw before in [Numbers_and_operators.ipynb](https://colab.research.google.com/github/Center-for-Health-Data-Science/PythonTsunami/blob/intro/Numbers_and_operators/Numbers_and_operators.ipynb) and think of which one can help you find an odd number."
   ]
  },
  {
   "cell_type": "code",
   "execution_count": null,
   "metadata": {
    "colab": {},
    "colab_type": "code",
    "id": "zaALh72SpZQi",
    "slideshow": {
     "slide_type": "fragment"
    }
   },
   "outputs": [],
   "source": [
    "from random import randint\n",
    "num = randint(1, 1000) #picks random number from 1-1000\n",
    "\n",
    "# YOUR CODE GOES HERE vvvvvvv\n"
   ]
  },
  {
   "cell_type": "markdown",
   "metadata": {},
   "source": [
    "### Exercise 3 \n",
    "\n",
    "Create a variable and assign an integer as value, then build a conditional to test it:\n",
    "- If the value is below 0, print \"The value is negative\"\n",
    "- If the value is between 0 and 20 (including 0 and 20), print the value\n",
    "- Otherwise, print \"Out of scope\"\n",
    "\n",
    "Test it by changing the value of the variable"
   ]
  },
  {
   "cell_type": "code",
   "execution_count": null,
   "metadata": {},
   "outputs": [],
   "source": []
  },
  {
   "cell_type": "markdown",
   "metadata": {},
   "source": [
    "### Exercise 4\n",
    "\n",
    "Read the file 'data/samples.txt' following the notebook [Importing data](https://colab.research.google.com/github/Center-for-Health-Data-Science/PythonTsunami/blob/intro/Importing_data/Importing_data.ipynb) and check if Denmark is among the countries in this file."
   ]
  },
  {
   "cell_type": "code",
   "execution_count": null,
   "metadata": {},
   "outputs": [],
   "source": []
  },
  {
   "cell_type": "markdown",
   "metadata": {
    "colab_type": "text",
    "id": "6y2iwYFuncUy",
    "slideshow": {
     "slide_type": "slide"
    }
   },
   "source": [
    "## Recap\n"
   ]
  },
  {
   "cell_type": "markdown",
   "metadata": {
    "colab_type": "text",
    "id": "i-YiaG6YneFA",
    "slideshow": {
     "slide_type": "fragment"
    }
   },
   "source": [
    "- Conditional logic can control the flow of a program\n",
    "\n",
    "- We can use comparison and logical operators to make conditional if statements\n",
    "\n",
    "- In general, always make sure you make comparisons between objects of the same type (integers and floats are the exceptions)\n",
    "\n",
    "- Conditional logic evaluates whether statements are true or false\n",
    "\n",
    "\n",
    "\n",
    "\n",
    "\n"
   ]
  },
  {
   "cell_type": "markdown",
   "metadata": {
    "colab_type": "text",
    "id": "THMUNuzm3jtb",
    "slideshow": {
     "slide_type": "fragment"
    }
   },
   "source": [
    "*Note: This notebook's content structure has been adapted from Colt Steele's slides used in [Modern Python 3 Bootcamp Course](https://www.udemy.com/course/the-modern-python3-bootcamp/) on Udemy*"
   ]
  },
  {
   "cell_type": "code",
   "execution_count": null,
   "metadata": {},
   "outputs": [],
   "source": []
  }
 ],
 "metadata": {
  "colab": {
   "authorship_tag": "ABX9TyPA4FNVSbwbHXzTkHRRee18",
   "collapsed_sections": [],
   "name": "conditionals.ipynb",
   "provenance": []
  },
  "kernelspec": {
   "display_name": "Python 3",
   "language": "python",
   "name": "python3"
  },
  "language_info": {
   "codemirror_mode": {
    "name": "ipython",
    "version": 3
   },
   "file_extension": ".py",
   "mimetype": "text/x-python",
   "name": "python",
   "nbconvert_exporter": "python",
   "pygments_lexer": "ipython3",
   "version": "3.6.8"
  },
  "rise": {
   "scroll": true
  },
  "toc": {
   "base_numbering": 1,
   "nav_menu": {},
   "number_sections": true,
   "sideBar": true,
   "skip_h1_title": false,
   "title_cell": "Table of Contents",
   "title_sidebar": "Contents",
   "toc_cell": false,
   "toc_position": {},
   "toc_section_display": true,
   "toc_window_display": false
  },
  "toc-autonumbering": true
 },
 "nbformat": 4,
 "nbformat_minor": 4
}

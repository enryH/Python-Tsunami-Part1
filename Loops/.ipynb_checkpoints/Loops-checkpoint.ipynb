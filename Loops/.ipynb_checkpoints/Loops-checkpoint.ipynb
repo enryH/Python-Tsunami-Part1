{
 "cells": [
  {
   "cell_type": "markdown",
   "metadata": {},
   "source": [
    "<img src=\"../figures/HeaDS_logo_large_withTitle.png\" width=\"300\">\n",
    "\n",
    "<img src=\"../figures/tsunami_logo.PNG\" width=\"600\">\n",
    "\n",
    "[![Open In Colab](https://colab.research.google.com/assets/colab-badge.svg)](https://colab.research.google.com/github/Center-for-Health-Data-Science/PythonTsunami/blob/intro/Loops/Loops.ipynb)"
   ]
  },
  {
   "cell_type": "markdown",
   "metadata": {
    "colab_type": "text",
    "id": "jzzrpQS-zxnF",
    "slideshow": {
     "slide_type": "slide"
    }
   },
   "source": [
    "# Loops\n",
    "\n",
    "\n",
    "*Prepared by [Katarina Nastou](https://www.cpr.ku.dk/staff/?pure=en/persons/672471) and [Rita Colaço](https://www.cpr.ku.dk/staff/?id=621366&vis=medarbejder)*"
   ]
  },
  {
   "cell_type": "markdown",
   "metadata": {
    "colab_type": "text",
    "id": "pjlidX5Dzxyl",
    "slideshow": {
     "slide_type": "subslide"
    }
   },
   "source": [
    "\n",
    "## Objectives\n",
    "- Understand what loops are and how they are useful\n",
    "- Learn what an \"iterable object\" is\n",
    "- Use ***for*** and ***while*** loops to iterate over ranges and strings \n",
    "- Learn how to control exiting a loop\n",
    "\n"
   ]
  },
  {
   "cell_type": "markdown",
   "metadata": {
    "colab_type": "text",
    "id": "HrDeygtfzx7P",
    "slideshow": {
     "slide_type": "fragment"
    }
   },
   "source": [
    "Test: Print numbers 1 through 10 using what you already know"
   ]
  },
  {
   "cell_type": "code",
   "execution_count": null,
   "metadata": {
    "colab": {},
    "colab_type": "code",
    "id": "tjj39-AazwAb",
    "slideshow": {
     "slide_type": "fragment"
    }
   },
   "outputs": [],
   "source": [
    "print(1)\n",
    "print(2)\n",
    "print(3)\n",
    "print(4)\n",
    "print(5)\n",
    "print(6)\n",
    "print(7)\n",
    "print(8)\n",
    "print(9)\n",
    "print(10)"
   ]
  },
  {
   "cell_type": "markdown",
   "metadata": {
    "slideshow": {
     "slide_type": "fragment"
    }
   },
   "source": [
    "This notebook is about how to do this less tediously.\n",
    "\n",
    "Loops are a way to repeatedly execute some code, in a simple and succinct way."
   ]
  },
  {
   "cell_type": "markdown",
   "metadata": {
    "colab_type": "text",
    "id": "EClTb9Qy0i8U",
    "slideshow": {
     "slide_type": "slide"
    }
   },
   "source": [
    "## **`for`** loops\n",
    "\n",
    "In Python, [**`for`**](https://docs.python.org/3/tutorial/controlflow.html#for-statements) loops are written like this:\n",
    "\n",
    "```python\n",
    "for var in seq:\n",
    "    expression\n",
    "```\n",
    "\n",
    "- How it reads: for each ***var***, a variable, in ***seq***, a sequence, execute the ***expression***, code you want to run (e.g. print(var)).\n",
    "\n",
    "- ***var*** is a variable and can be called whatever you want. \n",
    "\n",
    "- ***seq***, a sequence or **iterable object**. It is some kind of collection of items, for instance: a `str`ing of characters, a `range`, a [`list`](1_lists.ipynb) etc.\n",
    "\n",
    "- ***var*** references the current position of our ***iterator*** within the **iterable object**. It will iterate over (run through) every item of the collection and then go away when it has visited all items\n",
    "\n",
    "- the body of the loop is **indented** to group statements."
   ]
  },
  {
   "cell_type": "code",
   "execution_count": null,
   "metadata": {},
   "outputs": [],
   "source": [
    "number_list = [1, 2, 3, 4, 5, 6, 7, 8, 9, 10]\n",
    "\n",
    "for number in number_list:\n",
    "    print(number)"
   ]
  },
  {
   "cell_type": "markdown",
   "metadata": {},
   "source": [
    "> No access to indexes."
   ]
  },
  {
   "cell_type": "markdown",
   "metadata": {},
   "source": [
    "### Accessing indexes"
   ]
  },
  {
   "cell_type": "markdown",
   "metadata": {},
   "source": [
    "[**`enumerate()`**](https://docs.python.org/3/library/functions.html#enumerate) is a built-in Python function that adds a counter to an iterable and returns it in a form of enumerate object. This enumerate object can then be used directly in for loops or be converted into a list of tuples using `list()` method"
   ]
  },
  {
   "cell_type": "code",
   "execution_count": null,
   "metadata": {},
   "outputs": [],
   "source": [
    "aa_list = ['Arg', 'His', 'Lys', 'Asp', 'Glu', 'Ser', 'Thr', 'Asn', 'Gln', 'Cys', 'Sec',\n",
    "           'Gly', 'Pro', 'Ala', 'Val', 'Ile', 'Leu', 'Met', 'Phe', 'Tyr', 'Trp']\n",
    "\n",
    "for index, aa in enumerate(aa_list):\n",
    "    print(\"index \" + str(index) + \": \" + aa)\n"
   ]
  },
  {
   "cell_type": "markdown",
   "metadata": {
    "colab_type": "text",
    "id": "EClTb9Qy0i8U",
    "slideshow": {
     "slide_type": "subslide"
    }
   },
   "source": [
    "## ***for*** loops with **ranges**\n",
    "Let's print numbers 1 - 10 using ranges."
   ]
  },
  {
   "cell_type": "code",
   "execution_count": null,
   "metadata": {
    "colab": {},
    "colab_type": "code",
    "id": "aI1zSyEw1Tvk",
    "slideshow": {
     "slide_type": "fragment"
    }
   },
   "outputs": [],
   "source": [
    "for number in range(1, 11):\n",
    "    print(number)"
   ]
  },
  {
   "cell_type": "markdown",
   "metadata": {
    "colab_type": "text",
    "id": "ZCj6EX711bw1",
    "slideshow": {
     "slide_type": "fragment"
    }
   },
   "source": [
    "### `range()` function\n",
    "\n",
    "The [**`range()`**](https://docs.python.org/3/library/functions.html#func-range) function returns a sequence of numbers, starting from 0 by default, and increments by 1 by default, and stops at a specified number (exclusive).\n",
    "\n",
    "> The syntax is: `range(start, stop, step)`\n",
    "\n",
    "The *step* parameter tells the function how many to skip and which direction to count (**`+`** for **up** and **`-`** for **down**).\n",
    "\n",
    "Examples:\n",
    "\n",
    "- `range(8)` gives you integers from 0 through 7\n",
    "\n",
    "- `range(2, 9)` will give you integers from 2 to 8\n",
    "\n",
    "- `range(10, 20, 2)`  will give you even numbers from 10 to 20\n",
    "\n",
    "- `range(9, 0, -1)`  will give you integers from 9 to 1\n"
   ]
  },
  {
   "cell_type": "code",
   "execution_count": null,
   "metadata": {},
   "outputs": [],
   "source": [
    "for index, number in enumerate(range(1, 11)):\n",
    "    print(\"index \" + str(index) + \": \" + str(number))"
   ]
  },
  {
   "cell_type": "markdown",
   "metadata": {
    "colab_type": "text",
    "id": "o42yFkWx4WyO",
    "slideshow": {
     "slide_type": "slide"
    }
   },
   "source": [
    "## Quiz"
   ]
  },
  {
   "cell_type": "markdown",
   "metadata": {
    "colab_type": "text",
    "id": "o42yFkWx4WyO",
    "slideshow": {
     "slide_type": "slide"
    }
   },
   "source": [
    "**Question 1**: What numbers does the following range generate?\n",
    "\n",
    "`range(6,12)` "
   ]
  },
  {
   "cell_type": "code",
   "execution_count": null,
   "metadata": {},
   "outputs": [],
   "source": []
  },
  {
   "cell_type": "markdown",
   "metadata": {
    "colab_type": "text",
    "id": "o42yFkWx4WyO",
    "slideshow": {
     "slide_type": "slide"
    }
   },
   "source": [
    "**Question 2**: What numbers does the following range generate?\n",
    "\n",
    "`range(4)` "
   ]
  },
  {
   "cell_type": "code",
   "execution_count": null,
   "metadata": {},
   "outputs": [],
   "source": []
  },
  {
   "cell_type": "markdown",
   "metadata": {
    "colab_type": "text",
    "id": "o42yFkWx4WyO",
    "slideshow": {
     "slide_type": "slide"
    }
   },
   "source": [
    "**Question 3**: What is printed out after the following code?\n",
    "\n",
    "``` python\n",
    "nums = range(1,5)\n",
    "print(nums)\n",
    "```"
   ]
  },
  {
   "cell_type": "code",
   "execution_count": null,
   "metadata": {},
   "outputs": [],
   "source": []
  },
  {
   "cell_type": "markdown",
   "metadata": {
    "colab_type": "text",
    "id": "o42yFkWx4WyO",
    "slideshow": {
     "slide_type": "slide"
    }
   },
   "source": [
    "**Question 4**: What numbers does the following range generate?\n",
    "\n",
    "`range(12,0,-3)`"
   ]
  },
  {
   "cell_type": "code",
   "execution_count": null,
   "metadata": {
    "slideshow": {
     "slide_type": "fragment"
    }
   },
   "outputs": [],
   "source": []
  },
  {
   "cell_type": "markdown",
   "metadata": {
    "colab_type": "text",
    "id": "O42wSNIP2OWP",
    "slideshow": {
     "slide_type": "subslide"
    }
   },
   "source": [
    "## Breakout rooms"
   ]
  },
  {
   "cell_type": "markdown",
   "metadata": {},
   "source": [
    "### Exercise 1\n",
    "\n",
    "Loop through numbers 1-20:\n",
    "- If the number is 4 or 13, print \"x is unlucky\"\n",
    "- Otherwise:\n",
    "    - If the number is even, print \"x is even\"\n",
    "    - If the number is odd, print \"x is odd\"\n",
    "\n",
    "> check [`Conditions.ipynb`](https://colab.research.google.com/github/Center-for-Health-Data-Science/PythonTsunami/blob/intro/Conditionals/Conditions.ipynb)"
   ]
  },
  {
   "cell_type": "code",
   "execution_count": null,
   "metadata": {},
   "outputs": [],
   "source": []
  },
  {
   "cell_type": "markdown",
   "metadata": {
    "colab_type": "text",
    "id": "4NJV8SnW2dcf",
    "slideshow": {
     "slide_type": "slide"
    }
   },
   "source": [
    "## **`while`** loops\n",
    "\n",
    "We can also iterate using a **`while`** loop, which has a different format:\n",
    "\n",
    "```python\n",
    "while condition:\n",
    "    expression\n",
    "```\n",
    "while loops continue to execute while a certain condition is True, and will end when it becomes False.\n",
    "\n",
    "```python\n",
    "user_response = \"Something...\"\n",
    "while user_response != \"please\":\n",
    "    user_response = input(\"Ah ah ah, you didn't say the magic word: \")\n",
    "```\n",
    "\n",
    "***while*** loops require more careful setup than ***for*** loops, since you have to specify the termination conditions manually.\n",
    "\n",
    "Be careful! If the condition doesn't become false at some point, your loop will continue ***forever***!\n"
   ]
  },
  {
   "cell_type": "code",
   "execution_count": null,
   "metadata": {},
   "outputs": [],
   "source": [
    "error = 50.0\n",
    "\n",
    "while error > 1:\n",
    "    error = error / 4\n",
    "    print(error)"
   ]
  },
  {
   "cell_type": "markdown",
   "metadata": {
    "colab_type": "text",
    "id": "xKOz5qSs5bfV",
    "slideshow": {
     "slide_type": "slide"
    }
   },
   "source": [
    "## Quiz\n",
    "\n",
    "**Question 1**: What does the following loop do?\n",
    "```python\n",
    "    i = 1\n",
    "    while i < 5:\n",
    "        i + i\n",
    "        print(i)\n",
    "```\n",
    "    \n",
    "> hint: is the value of `i` changing?"
   ]
  },
  {
   "cell_type": "code",
   "execution_count": null,
   "metadata": {
    "slideshow": {
     "slide_type": "fragment"
    }
   },
   "outputs": [],
   "source": []
  },
  {
   "cell_type": "markdown",
   "metadata": {
    "colab_type": "text",
    "id": "xKOz5qSs5bfV",
    "slideshow": {
     "slide_type": "subslide"
    }
   },
   "source": [
    "**Question 2**: What does the following loop do?\n",
    "```python\n",
    "    i = 0\n",
    "    while i <= 5:\n",
    "        i =+ 1\n",
    "        print(i)\n",
    "```\n",
    "> hint: have you checked for typos here?"
   ]
  },
  {
   "cell_type": "code",
   "execution_count": null,
   "metadata": {
    "slideshow": {
     "slide_type": "fragment"
    }
   },
   "outputs": [],
   "source": []
  },
  {
   "cell_type": "markdown",
   "metadata": {
    "colab_type": "text",
    "id": "xKOz5qSs5bfV",
    "slideshow": {
     "slide_type": "subslide"
    }
   },
   "source": [
    "**Question 3**: What can we do to get out of the infinite loop below?\n",
    "```python\n",
    "    # this code runs forever...\n",
    "    x = 0\n",
    "    while x != 11:\n",
    "        x += 2\n",
    "        print(x)\n",
    "```\n",
    "\n",
    "1. change the condition to `x != 10`\n",
    "   \n",
    "2. change the condition to `x < 11`\n",
    "    \n",
    "3. add conditional that says \n",
    "    \n",
    "```python\n",
    "if x == 10:\n",
    "    break\n",
    "```\n",
    "\n",
    "4. press Ctrl + C to kill the program\n",
    "\n",
    "5. all of the above"
   ]
  },
  {
   "cell_type": "code",
   "execution_count": null,
   "metadata": {
    "slideshow": {
     "slide_type": "fragment"
    }
   },
   "outputs": [],
   "source": []
  },
  {
   "cell_type": "markdown",
   "metadata": {
    "colab_type": "text",
    "id": "XKETo3jK3aue",
    "slideshow": {
     "slide_type": "slide"
    }
   },
   "source": [
    "## Python loop control\n",
    "\n",
    "Controlled exit, skipping block of code, or ignoring external factors that might influence your code, can be achieved with the Python statements: `break`, `continue`, and `pass`."
   ]
  },
  {
   "cell_type": "markdown",
   "metadata": {
    "colab_type": "text",
    "id": "XKETo3jK3aue",
    "slideshow": {
     "slide_type": "slide"
    }
   },
   "source": [
    "### ***`break`*** statement\n",
    "\n",
    "The keyword [`break`](https://docs.python.org/3/tutorial/controlflow.html#break-and-continue-statements-and-else-clauses-on-loops) gives us the ability to exit out of a loop whenever we want, and can be used in both `while` and `for` loops.\n",
    "\n",
    "Example 1:\n",
    "\n",
    "``` python\n",
    "for letter in 'Python':\n",
    "    if letter == 'h':\n",
    "        break\n",
    "    print('Current Letter :', letter)\n",
    "```\n",
    "\n",
    "Example 2:\n",
    "\n",
    "``` python\n",
    "var = 10\n",
    "while var > 0:              \n",
    "    print('Current variable value :', var)\n",
    "    var = var -1\n",
    "    if var == 5:\n",
    "        break\n",
    "print(\"Good bye!\")\n",
    "```"
   ]
  },
  {
   "cell_type": "markdown",
   "metadata": {
    "colab_type": "text",
    "id": "XKETo3jK3aue",
    "slideshow": {
     "slide_type": "slide"
    }
   },
   "source": [
    "The `break` statement needs to be within the block of code under your loop statement, ususally after a conditional `if` statement."
   ]
  },
  {
   "cell_type": "code",
   "execution_count": null,
   "metadata": {
    "colab": {
     "base_uri": "https://localhost:8080/",
     "height": 139
    },
    "colab_type": "code",
    "executionInfo": {
     "elapsed": 3318,
     "status": "ok",
     "timestamp": 1583751015556,
     "user": {
      "displayName": "Catherine Nst",
      "photoUrl": "",
      "userId": "00118750132604534762"
     },
     "user_tz": -60
    },
    "id": "VsEuKOb731qP",
    "outputId": "55af52b6-e389-47c6-f708-60abe34a9994",
    "slideshow": {
     "slide_type": "fragment"
    }
   },
   "outputs": [],
   "source": [
    "for letter in 'Python':\n",
    "    if letter == 'h':\n",
    "        break\n",
    "    print('Current Letter :', letter)"
   ]
  },
  {
   "cell_type": "markdown",
   "metadata": {},
   "source": [
    "### ***`continue`*** statement\n",
    "\n",
    "The [`continue`](https://docs.python.org/3/tutorial/controlflow.html#break-and-continue-statements-and-else-clauses-on-loops) statement in Python gives you the option to skip over the part of a loop where a condition is met, but to go on to complete the rest of the loop. That is, it disrupts the iteration of the loop that fulfills the condition and returns the control to the beginning of the loop. Works with both `while` and `for` loops.\n",
    "\n",
    "Example 1:\n",
    "\n",
    "``` python\n",
    "for letter in 'Python':\n",
    "    if letter == 'h':\n",
    "        continue\n",
    "    print('Current Letter :', letter)\n",
    "```\n",
    "\n",
    "Example 2:\n",
    "\n",
    "``` python\n",
    "var = 10 \n",
    "while var > 0:              \n",
    "    var = var - 1\n",
    "    if var in [5, 4, 3]:\n",
    "        continue\n",
    "    print('Current variable value :', var)\n",
    "print(\"Good bye!\")\n",
    "```"
   ]
  },
  {
   "cell_type": "markdown",
   "metadata": {},
   "source": [
    "The difference in using `continue` rather than `break` is that the loop will continue despite the disruption when the condition is met."
   ]
  },
  {
   "cell_type": "code",
   "execution_count": null,
   "metadata": {},
   "outputs": [],
   "source": [
    "for letter in 'Python':\n",
    "    if letter == 'h':\n",
    "        continue\n",
    "    print('Current Letter :', letter)"
   ]
  },
  {
   "cell_type": "markdown",
   "metadata": {},
   "source": [
    "### ***`pass`*** statement\n",
    "\n",
    "The [`pass`](https://docs.python.org/3/tutorial/controlflow.html#pass-statements) statement is used when a statement is required syntactically but you do not want any command or code to execute. It's a *null* operation.\n",
    "\n",
    "Example:\n",
    "\n",
    "``` python\n",
    "for letter in 'Python':\n",
    "    if letter == 'h':\n",
    "        pass\n",
    "    print('Current Letter :', letter)\n",
    "```"
   ]
  },
  {
   "cell_type": "code",
   "execution_count": null,
   "metadata": {},
   "outputs": [],
   "source": [
    "for letter in 'Python':\n",
    "    if letter == 'h':\n",
    "        pass\n",
    "    print('Current Letter :', letter)"
   ]
  },
  {
   "cell_type": "markdown",
   "metadata": {},
   "source": [
    "## Breakout rooms"
   ]
  },
  {
   "cell_type": "markdown",
   "metadata": {},
   "source": [
    "### Exercise 1\n",
    "\n",
    "Create a Python script that guesses your age in a maximum of 8 tries. The script can ask only questions with the format \"Are you 50 years old?\". And you can answer only one of the three options: less, more or correct.\n",
    "\n",
    "> Tip: Check what you learned on `input()`, conditional statements, `for` loops, `range()`, and controlled exit from a loop.\n"
   ]
  },
  {
   "cell_type": "code",
   "execution_count": null,
   "metadata": {},
   "outputs": [],
   "source": []
  },
  {
   "cell_type": "markdown",
   "metadata": {
    "colab_type": "text",
    "id": "OdT8saj44Avh",
    "slideshow": {
     "slide_type": "slide"
    }
   },
   "source": [
    "## Recap\n",
    "\n",
    "- Loops are sections of code that keep repeating\n",
    "- For loops are useful for going through [iterable objects](https://docs.python.org/3/tutorial/classes.html#iterators)\n",
    "- While loops are more versatile but require more set up\n",
    "- Any loop can be short-circuited with the `break` keyword\n",
    "\n",
    "\n",
    "\n"
   ]
  },
  {
   "cell_type": "markdown",
   "metadata": {
    "colab_type": "text",
    "id": "THMUNuzm3jtb",
    "slideshow": {
     "slide_type": "fragment"
    }
   },
   "source": [
    "*Note: This notebook's contents have been adapted from Colt Steele's slides used in [Modern Python 3 Bootcamp Course](https://www.udemy.com/course/the-modern-python3-bootcamp/) on Udemy*"
   ]
  },
  {
   "cell_type": "code",
   "execution_count": null,
   "metadata": {},
   "outputs": [],
   "source": []
  }
 ],
 "metadata": {
  "colab": {
   "authorship_tag": "ABX9TyNn48PoJA8yAKrQsJwUhfXp",
   "collapsed_sections": [],
   "name": "loops.ipynb",
   "provenance": []
  },
  "kernelspec": {
   "display_name": "Python 3",
   "language": "python",
   "name": "python3"
  },
  "language_info": {
   "codemirror_mode": {
    "name": "ipython",
    "version": 3
   },
   "file_extension": ".py",
   "mimetype": "text/x-python",
   "name": "python",
   "nbconvert_exporter": "python",
   "pygments_lexer": "ipython3",
   "version": "3.6.8"
  },
  "toc": {
   "base_numbering": 1,
   "nav_menu": {},
   "number_sections": true,
   "sideBar": true,
   "skip_h1_title": false,
   "title_cell": "Table of Contents",
   "title_sidebar": "Contents",
   "toc_cell": false,
   "toc_position": {},
   "toc_section_display": true,
   "toc_window_display": false
  },
  "toc-autonumbering": true
 },
 "nbformat": 4,
 "nbformat_minor": 4
}
